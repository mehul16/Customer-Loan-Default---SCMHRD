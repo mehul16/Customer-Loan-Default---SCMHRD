{
 "cells": [
  {
   "cell_type": "code",
   "execution_count": 1,
   "metadata": {},
   "outputs": [],
   "source": [
    "# import libraries\n",
    "\n",
    "import pandas as pd\n",
    "import numpy as np\n",
    "import matplotlib.pyplot as plt\n",
    "import seaborn as sns\n",
    "\n",
    "%matplotlib inline"
   ]
  },
  {
   "cell_type": "code",
   "execution_count": 2,
   "metadata": {},
   "outputs": [],
   "source": [
    "loan = pd.read_csv(\"Train_Data.csv\")\n",
    "loan.set_index(\"ID\", inplace = True)"
   ]
  },
  {
   "cell_type": "code",
   "execution_count": 3,
   "metadata": {},
   "outputs": [],
   "source": [
    "loan.reset_index(drop=True, inplace = True)"
   ]
  },
  {
   "cell_type": "code",
   "execution_count": 4,
   "metadata": {},
   "outputs": [
    {
     "data": {
      "text/html": [
       "<div>\n",
       "<style scoped>\n",
       "    .dataframe tbody tr th:only-of-type {\n",
       "        vertical-align: middle;\n",
       "    }\n",
       "\n",
       "    .dataframe tbody tr th {\n",
       "        vertical-align: top;\n",
       "    }\n",
       "\n",
       "    .dataframe thead th {\n",
       "        text-align: right;\n",
       "    }\n",
       "</style>\n",
       "<table border=\"1\" class=\"dataframe\">\n",
       "  <thead>\n",
       "    <tr style=\"text-align: right;\">\n",
       "      <th></th>\n",
       "      <th>Income_of_Applicant</th>\n",
       "      <th>Income_of_Joint_Applicant</th>\n",
       "      <th>Loan_Amount_Requirement</th>\n",
       "      <th>Loan_Amount_Term</th>\n",
       "      <th>Credit_History</th>\n",
       "      <th>Gender</th>\n",
       "      <th>Is_Married</th>\n",
       "      <th>No_of_Dependents</th>\n",
       "      <th>Level_of_Education</th>\n",
       "      <th>IS_Self_Employed</th>\n",
       "      <th>Area_of_Property</th>\n",
       "      <th>Loan_Status</th>\n",
       "    </tr>\n",
       "  </thead>\n",
       "  <tbody>\n",
       "    <tr>\n",
       "      <th>0</th>\n",
       "      <td>5849</td>\n",
       "      <td>0.0</td>\n",
       "      <td>NaN</td>\n",
       "      <td>360.0</td>\n",
       "      <td>1.0</td>\n",
       "      <td>Male</td>\n",
       "      <td>No</td>\n",
       "      <td>0</td>\n",
       "      <td>Graduate</td>\n",
       "      <td>No</td>\n",
       "      <td>Urban</td>\n",
       "      <td>Y</td>\n",
       "    </tr>\n",
       "    <tr>\n",
       "      <th>1</th>\n",
       "      <td>4583</td>\n",
       "      <td>1508.0</td>\n",
       "      <td>128.0</td>\n",
       "      <td>360.0</td>\n",
       "      <td>1.0</td>\n",
       "      <td>Male</td>\n",
       "      <td>Yes</td>\n",
       "      <td>1</td>\n",
       "      <td>Graduate</td>\n",
       "      <td>No</td>\n",
       "      <td>Rural</td>\n",
       "      <td>N</td>\n",
       "    </tr>\n",
       "    <tr>\n",
       "      <th>2</th>\n",
       "      <td>3000</td>\n",
       "      <td>0.0</td>\n",
       "      <td>66.0</td>\n",
       "      <td>360.0</td>\n",
       "      <td>1.0</td>\n",
       "      <td>Male</td>\n",
       "      <td>Yes</td>\n",
       "      <td>0</td>\n",
       "      <td>Graduate</td>\n",
       "      <td>Yes</td>\n",
       "      <td>Urban</td>\n",
       "      <td>Y</td>\n",
       "    </tr>\n",
       "    <tr>\n",
       "      <th>3</th>\n",
       "      <td>2583</td>\n",
       "      <td>2358.0</td>\n",
       "      <td>120.0</td>\n",
       "      <td>360.0</td>\n",
       "      <td>1.0</td>\n",
       "      <td>Male</td>\n",
       "      <td>Yes</td>\n",
       "      <td>0</td>\n",
       "      <td>Not Graduate</td>\n",
       "      <td>No</td>\n",
       "      <td>Urban</td>\n",
       "      <td>Y</td>\n",
       "    </tr>\n",
       "    <tr>\n",
       "      <th>4</th>\n",
       "      <td>6000</td>\n",
       "      <td>0.0</td>\n",
       "      <td>141.0</td>\n",
       "      <td>360.0</td>\n",
       "      <td>1.0</td>\n",
       "      <td>Male</td>\n",
       "      <td>No</td>\n",
       "      <td>0</td>\n",
       "      <td>Graduate</td>\n",
       "      <td>No</td>\n",
       "      <td>Urban</td>\n",
       "      <td>Y</td>\n",
       "    </tr>\n",
       "  </tbody>\n",
       "</table>\n",
       "</div>"
      ],
      "text/plain": [
       "   Income_of_Applicant  Income_of_Joint_Applicant  Loan_Amount_Requirement  \\\n",
       "0                 5849                        0.0                      NaN   \n",
       "1                 4583                     1508.0                    128.0   \n",
       "2                 3000                        0.0                     66.0   \n",
       "3                 2583                     2358.0                    120.0   \n",
       "4                 6000                        0.0                    141.0   \n",
       "\n",
       "   Loan_Amount_Term  Credit_History Gender Is_Married No_of_Dependents  \\\n",
       "0             360.0             1.0   Male         No                0   \n",
       "1             360.0             1.0   Male        Yes                1   \n",
       "2             360.0             1.0   Male        Yes                0   \n",
       "3             360.0             1.0   Male        Yes                0   \n",
       "4             360.0             1.0   Male         No                0   \n",
       "\n",
       "  Level_of_Education IS_Self_Employed Area_of_Property Loan_Status  \n",
       "0           Graduate               No            Urban           Y  \n",
       "1           Graduate               No            Rural           N  \n",
       "2           Graduate              Yes            Urban           Y  \n",
       "3       Not Graduate               No            Urban           Y  \n",
       "4           Graduate               No            Urban           Y  "
      ]
     },
     "execution_count": 4,
     "metadata": {},
     "output_type": "execute_result"
    }
   ],
   "source": [
    "loan.head()"
   ]
  },
  {
   "cell_type": "code",
   "execution_count": 5,
   "metadata": {
    "scrolled": false
   },
   "outputs": [
    {
     "name": "stdout",
     "output_type": "stream",
     "text": [
      "<class 'pandas.core.frame.DataFrame'>\n",
      "RangeIndex: 614 entries, 0 to 613\n",
      "Data columns (total 12 columns):\n",
      " #   Column                     Non-Null Count  Dtype  \n",
      "---  ------                     --------------  -----  \n",
      " 0   Income_of_Applicant        614 non-null    int64  \n",
      " 1   Income_of_Joint_Applicant  614 non-null    float64\n",
      " 2   Loan_Amount_Requirement    592 non-null    float64\n",
      " 3   Loan_Amount_Term           600 non-null    float64\n",
      " 4   Credit_History             564 non-null    float64\n",
      " 5   Gender                     601 non-null    object \n",
      " 6   Is_Married                 611 non-null    object \n",
      " 7   No_of_Dependents           599 non-null    object \n",
      " 8   Level_of_Education         614 non-null    object \n",
      " 9   IS_Self_Employed           582 non-null    object \n",
      " 10  Area_of_Property           614 non-null    object \n",
      " 11  Loan_Status                614 non-null    object \n",
      "dtypes: float64(4), int64(1), object(7)\n",
      "memory usage: 57.7+ KB\n"
     ]
    }
   ],
   "source": [
    "loan.info()"
   ]
  },
  {
   "cell_type": "code",
   "execution_count": 6,
   "metadata": {},
   "outputs": [
    {
     "data": {
      "text/plain": [
       "0"
      ]
     },
     "execution_count": 6,
     "metadata": {},
     "output_type": "execute_result"
    }
   ],
   "source": [
    "loan.duplicated().sum()"
   ]
  },
  {
   "cell_type": "code",
   "execution_count": 7,
   "metadata": {
    "scrolled": true
   },
   "outputs": [
    {
     "data": {
      "text/plain": [
       "Income_of_Applicant           0\n",
       "Income_of_Joint_Applicant     0\n",
       "Loan_Amount_Requirement      22\n",
       "Loan_Amount_Term             14\n",
       "Credit_History               50\n",
       "Gender                       13\n",
       "Is_Married                    3\n",
       "No_of_Dependents             15\n",
       "Level_of_Education            0\n",
       "IS_Self_Employed             32\n",
       "Area_of_Property              0\n",
       "Loan_Status                   0\n",
       "dtype: int64"
      ]
     },
     "execution_count": 7,
     "metadata": {},
     "output_type": "execute_result"
    }
   ],
   "source": [
    "loan.isnull().sum()"
   ]
  },
  {
   "cell_type": "code",
   "execution_count": 8,
   "metadata": {
    "scrolled": true
   },
   "outputs": [
    {
     "name": "stdout",
     "output_type": "stream",
     "text": [
      "Total rows with missing values: 21.82 % of total data!!!\n"
     ]
    }
   ],
   "source": [
    "print(\"Total rows with missing values: \" + str(round((loan.isnull().any(axis=1).sum()/loan.shape[0])*100,2)) + \" % of total data!!!\")"
   ]
  },
  {
   "cell_type": "code",
   "execution_count": 9,
   "metadata": {},
   "outputs": [
    {
     "data": {
      "text/plain": [
       "Index(['Loan_Amount_Requirement', 'Loan_Amount_Term', 'Credit_History',\n",
       "       'Gender', 'Is_Married', 'No_of_Dependents', 'IS_Self_Employed'],\n",
       "      dtype='object')"
      ]
     },
     "execution_count": 9,
     "metadata": {},
     "output_type": "execute_result"
    }
   ],
   "source": [
    "loan.columns[loan.isnull().sum()>0]"
   ]
  },
  {
   "cell_type": "markdown",
   "metadata": {},
   "source": [
    "#### Columns in dataset with missing values are:\n",
    "'Loan_Amount_Requirement', 'Loan_Amount_Term', 'Credit_History',\n",
    "       'Gender', 'Is_Married', 'No_of_Dependents', 'IS_Self_Employed'"
   ]
  },
  {
   "cell_type": "code",
   "execution_count": 10,
   "metadata": {
    "scrolled": true
   },
   "outputs": [
    {
     "data": {
      "text/plain": [
       "Text(0.5, 1.0, 'IS_Self_Employed')"
      ]
     },
     "execution_count": 10,
     "metadata": {},
     "output_type": "execute_result"
    },
    {
     "data": {
      "image/png": "[encoded data removed]",
      "text/plain": [
       "<Figure size 1440x360 with 7 Axes>"
      ]
     },
     "metadata": {
      "needs_background": "light"
     },
     "output_type": "display_data"
    }
   ],
   "source": [
    "fig, axes = plt.subplots(1, 7, figsize = (20,5))\n",
    "\n",
    "loan.hist(\"Loan_Amount_Requirement\", ax = axes [0])\n",
    "loan.hist(\"Loan_Amount_Term\", ax = axes[1])\n",
    "loan.hist(\"Credit_History\", ax = axes[2])\n",
    "loan.Gender.value_counts(normalize = True, dropna = False).plot(kind=\"bar\", ax = axes[3]).set_title(\"Gender\")\n",
    "loan.Is_Married.value_counts(normalize = True, dropna = False).plot(kind=\"bar\", ax = axes[4]).set_title(\"Is_Married\")\n",
    "loan.No_of_Dependents.value_counts(normalize = True, dropna = False).plot(kind=\"bar\", ax = axes[5]).set_title(\"No_of_Dependents\")\n",
    "loan.IS_Self_Employed.value_counts(normalize = True, dropna = False).plot(kind=\"bar\", ax = axes[6]).set_title(\"IS_Self_Employed\")"
   ]
  },
  {
   "cell_type": "markdown",
   "metadata": {},
   "source": [
    "## For now, removing all missing values to simplify further process! "
   ]
  },
  {
   "cell_type": "code",
   "execution_count": 11,
   "metadata": {},
   "outputs": [
    {
     "data": {
      "text/plain": [
       "Income_of_Applicant          0\n",
       "Income_of_Joint_Applicant    0\n",
       "Loan_Amount_Requirement      0\n",
       "Loan_Amount_Term             0\n",
       "Credit_History               0\n",
       "Gender                       0\n",
       "Is_Married                   0\n",
       "No_of_Dependents             0\n",
       "Level_of_Education           0\n",
       "IS_Self_Employed             0\n",
       "Area_of_Property             0\n",
       "Loan_Status                  0\n",
       "dtype: int64"
      ]
     },
     "execution_count": 11,
     "metadata": {},
     "output_type": "execute_result"
    }
   ],
   "source": [
    "loan.dropna(inplace = True)\n",
    "loan.isnull().sum()"
   ]
  },
  {
   "cell_type": "code",
   "execution_count": 12,
   "metadata": {},
   "outputs": [
    {
     "data": {
      "text/plain": [
       "array([[<AxesSubplot:title={'center':'Income_of_Applicant'}>,\n",
       "        <AxesSubplot:title={'center':'Income_of_Joint_Applicant'}>],\n",
       "       [<AxesSubplot:title={'center':'Loan_Amount_Requirement'}>,\n",
       "        <AxesSubplot:title={'center':'Loan_Amount_Term'}>],\n",
       "       [<AxesSubplot:title={'center':'Credit_History'}>, <AxesSubplot:>]],\n",
       "      dtype=object)"
      ]
     },
     "execution_count": 12,
     "metadata": {},
     "output_type": "execute_result"
    },
    {
     "data": {
      "image/png": "[encoded data removed]",
      "text/plain": [
       "<Figure size 1080x720 with 6 Axes>"
      ]
     },
     "metadata": {
      "needs_background": "light"
     },
     "output_type": "display_data"
    }
   ],
   "source": [
    "loan.hist(bins = 50, figsize = (15,10))"
   ]
  },
  {
   "cell_type": "code",
   "execution_count": 13,
   "metadata": {},
   "outputs": [
    {
     "data": {
      "text/plain": [
       "<AxesSubplot:>"
      ]
     },
     "execution_count": 13,
     "metadata": {},
     "output_type": "execute_result"
    },
    {
     "data": {
      "image/png": "[encoded data removed]",
      "text/plain": [
       "<Figure size 432x288 with 1 Axes>"
      ]
     },
     "metadata": {
      "needs_background": "light"
     },
     "output_type": "display_data"
    }
   ],
   "source": [
    "# creating \"income cat\" to check distribution\n",
    "loan[\"income_cat\"] = pd.cut(loan[\"Income_of_Applicant\"], bins = [0., 2500., 5000., 7500., 10000., np.inf], labels = [2500, 5000, 7500, 10000, \"10,000+\"], right = False)\n",
    "# (loan[\"income_cat\"].value_counts()/len(loan[\"income_cat\"]))*100\n",
    "loan[\"income_cat\"].sort_values().hist()"
   ]
  },
  {
   "cell_type": "markdown",
   "metadata": {},
   "source": [
    "Checking Loan_Status based on Area_of_Property & Loan_Amount_Requirement"
   ]
  },
  {
   "cell_type": "code",
   "execution_count": 14,
   "metadata": {
    "scrolled": false
   },
   "outputs": [
    {
     "data": {
      "text/plain": [
       "<seaborn.axisgrid.FacetGrid at 0x1cac238be88>"
      ]
     },
     "execution_count": 14,
     "metadata": {},
     "output_type": "execute_result"
    },
    {
     "data": {
      "image/png": "[encoded data removed]",
      "text/plain": [
       "<Figure size 716.625x216 with 3 Axes>"
      ]
     },
     "metadata": {
      "needs_background": "light"
     },
     "output_type": "display_data"
    }
   ],
   "source": [
    "sns.FacetGrid(loan, hue = \"Loan_Status\", col = \"Area_of_Property\", height = 3).map(plt.hist, \"Loan_Amount_Requirement\", bins = 5, ec = \"k\").add_legend()"
   ]
  },
  {
   "cell_type": "code",
   "execution_count": 15,
   "metadata": {},
   "outputs": [
    {
     "data": {
      "text/plain": [
       "<seaborn.axisgrid.FacetGrid at 0x1cac238bf48>"
      ]
     },
     "execution_count": 15,
     "metadata": {},
     "output_type": "execute_result"
    },
    {
     "data": {
      "image/png": "[encoded data removed]",
      "text/plain": [
       "<Figure size 500.625x216 with 2 Axes>"
      ]
     },
     "metadata": {
      "needs_background": "light"
     },
     "output_type": "display_data"
    }
   ],
   "source": [
    "sns.FacetGrid(loan, hue = \"Loan_Status\", col = \"Credit_History\", height = 3).map(plt.hist, \"Loan_Amount_Requirement\", ec = \"k\").add_legend()"
   ]
  },
  {
   "cell_type": "markdown",
   "metadata": {},
   "source": [
    "#### Credit_History = 1.0 has strong affect on Loan Status!"
   ]
  },
  {
   "cell_type": "code",
   "execution_count": 16,
   "metadata": {},
   "outputs": [
    {
     "data": {
      "text/plain": [
       "1.0    85.416667\n",
       "0.0    14.583333\n",
       "Name: Credit_History, dtype: float64"
      ]
     },
     "execution_count": 16,
     "metadata": {},
     "output_type": "execute_result"
    }
   ],
   "source": [
    "(loan[\"Credit_History\"].value_counts()/len(loan[\"Credit_History\"]))*100"
   ]
  },
  {
   "cell_type": "markdown",
   "metadata": {},
   "source": [
    "### Checking target variable classes"
   ]
  },
  {
   "cell_type": "code",
   "execution_count": 17,
   "metadata": {},
   "outputs": [
    {
     "data": {
      "text/plain": [
       "Y    69.166667\n",
       "N    30.833333\n",
       "Name: Loan_Status, dtype: float64"
      ]
     },
     "execution_count": 17,
     "metadata": {},
     "output_type": "execute_result"
    }
   ],
   "source": [
    "(loan[\"Loan_Status\"].value_counts()/len(loan[\"Loan_Status\"]))*100"
   ]
  },
  {
   "cell_type": "markdown",
   "metadata": {},
   "source": [
    "## Create a test set to prevent data snooping bias!"
   ]
  },
  {
   "cell_type": "code",
   "execution_count": 18,
   "metadata": {},
   "outputs": [],
   "source": [
    "from sklearn.model_selection import StratifiedShuffleSplit"
   ]
  },
  {
   "cell_type": "code",
   "execution_count": 19,
   "metadata": {},
   "outputs": [],
   "source": [
    "split = StratifiedShuffleSplit(n_splits = 1, test_size = 0.2, random_state = 42)"
   ]
  },
  {
   "cell_type": "code",
   "execution_count": 20,
   "metadata": {},
   "outputs": [
    {
     "data": {
      "text/html": [
       "<div>\n",
       "<style scoped>\n",
       "    .dataframe tbody tr th:only-of-type {\n",
       "        vertical-align: middle;\n",
       "    }\n",
       "\n",
       "    .dataframe tbody tr th {\n",
       "        vertical-align: top;\n",
       "    }\n",
       "\n",
       "    .dataframe thead th {\n",
       "        text-align: right;\n",
       "    }\n",
       "</style>\n",
       "<table border=\"1\" class=\"dataframe\">\n",
       "  <thead>\n",
       "    <tr style=\"text-align: right;\">\n",
       "      <th></th>\n",
       "      <th>Income_of_Applicant</th>\n",
       "      <th>Income_of_Joint_Applicant</th>\n",
       "      <th>Loan_Amount_Requirement</th>\n",
       "      <th>Loan_Amount_Term</th>\n",
       "      <th>Credit_History</th>\n",
       "      <th>Gender</th>\n",
       "      <th>Is_Married</th>\n",
       "      <th>No_of_Dependents</th>\n",
       "      <th>Level_of_Education</th>\n",
       "      <th>IS_Self_Employed</th>\n",
       "      <th>Area_of_Property</th>\n",
       "      <th>Loan_Status</th>\n",
       "      <th>income_cat</th>\n",
       "    </tr>\n",
       "  </thead>\n",
       "  <tbody>\n",
       "    <tr>\n",
       "      <th>582</th>\n",
       "      <td>3166</td>\n",
       "      <td>0.000000</td>\n",
       "      <td>36.0</td>\n",
       "      <td>360.0</td>\n",
       "      <td>1.0</td>\n",
       "      <td>Female</td>\n",
       "      <td>Yes</td>\n",
       "      <td>0</td>\n",
       "      <td>Graduate</td>\n",
       "      <td>No</td>\n",
       "      <td>Semiurban</td>\n",
       "      <td>Y</td>\n",
       "      <td>5000</td>\n",
       "    </tr>\n",
       "    <tr>\n",
       "      <th>428</th>\n",
       "      <td>2920</td>\n",
       "      <td>16.120001</td>\n",
       "      <td>87.0</td>\n",
       "      <td>360.0</td>\n",
       "      <td>1.0</td>\n",
       "      <td>Male</td>\n",
       "      <td>Yes</td>\n",
       "      <td>0</td>\n",
       "      <td>Graduate</td>\n",
       "      <td>No</td>\n",
       "      <td>Rural</td>\n",
       "      <td>Y</td>\n",
       "      <td>5000</td>\n",
       "    </tr>\n",
       "    <tr>\n",
       "      <th>357</th>\n",
       "      <td>3875</td>\n",
       "      <td>0.000000</td>\n",
       "      <td>67.0</td>\n",
       "      <td>360.0</td>\n",
       "      <td>1.0</td>\n",
       "      <td>Male</td>\n",
       "      <td>Yes</td>\n",
       "      <td>1</td>\n",
       "      <td>Graduate</td>\n",
       "      <td>No</td>\n",
       "      <td>Urban</td>\n",
       "      <td>N</td>\n",
       "      <td>5000</td>\n",
       "    </tr>\n",
       "    <tr>\n",
       "      <th>405</th>\n",
       "      <td>4547</td>\n",
       "      <td>0.000000</td>\n",
       "      <td>115.0</td>\n",
       "      <td>360.0</td>\n",
       "      <td>1.0</td>\n",
       "      <td>Female</td>\n",
       "      <td>No</td>\n",
       "      <td>0</td>\n",
       "      <td>Graduate</td>\n",
       "      <td>No</td>\n",
       "      <td>Semiurban</td>\n",
       "      <td>Y</td>\n",
       "      <td>5000</td>\n",
       "    </tr>\n",
       "    <tr>\n",
       "      <th>561</th>\n",
       "      <td>19484</td>\n",
       "      <td>0.000000</td>\n",
       "      <td>600.0</td>\n",
       "      <td>360.0</td>\n",
       "      <td>1.0</td>\n",
       "      <td>Female</td>\n",
       "      <td>Yes</td>\n",
       "      <td>1</td>\n",
       "      <td>Graduate</td>\n",
       "      <td>Yes</td>\n",
       "      <td>Semiurban</td>\n",
       "      <td>Y</td>\n",
       "      <td>10,000+</td>\n",
       "    </tr>\n",
       "  </tbody>\n",
       "</table>\n",
       "</div>"
      ],
      "text/plain": [
       "     Income_of_Applicant  Income_of_Joint_Applicant  Loan_Amount_Requirement  \\\n",
       "582                 3166                   0.000000                     36.0   \n",
       "428                 2920                  16.120001                     87.0   \n",
       "357                 3875                   0.000000                     67.0   \n",
       "405                 4547                   0.000000                    115.0   \n",
       "561                19484                   0.000000                    600.0   \n",
       "\n",
       "     Loan_Amount_Term  Credit_History  Gender Is_Married No_of_Dependents  \\\n",
       "582             360.0             1.0  Female        Yes                0   \n",
       "428             360.0             1.0    Male        Yes                0   \n",
       "357             360.0             1.0    Male        Yes                1   \n",
       "405             360.0             1.0  Female         No                0   \n",
       "561             360.0             1.0  Female        Yes                1   \n",
       "\n",
       "    Level_of_Education IS_Self_Employed Area_of_Property Loan_Status  \\\n",
       "582           Graduate               No        Semiurban           Y   \n",
       "428           Graduate               No            Rural           Y   \n",
       "357           Graduate               No            Urban           N   \n",
       "405           Graduate               No        Semiurban           Y   \n",
       "561           Graduate              Yes        Semiurban           Y   \n",
       "\n",
       "    income_cat  \n",
       "582       5000  \n",
       "428       5000  \n",
       "357       5000  \n",
       "405       5000  \n",
       "561    10,000+  "
      ]
     },
     "execution_count": 20,
     "metadata": {},
     "output_type": "execute_result"
    }
   ],
   "source": [
    "for train_index_s, test_index_s in split.split(loan, loan[\"Credit_History\"]):\n",
    "    strat_train_set = loan.iloc[train_index_s]\n",
    "    strat_test_set = loan.iloc[test_index_s]\n",
    "\n",
    "strat_train_set.head()"
   ]
  },
  {
   "cell_type": "code",
   "execution_count": 21,
   "metadata": {},
   "outputs": [],
   "source": [
    "# This is simple random sampling.\n",
    "# np.random.seed(42)\n",
    "# shuffles = np.random.permutation(len(loan))\n",
    "\n",
    "# test_ratio = 0.8\n",
    "# train_set_size = int(len(loan) * test_ratio)\n",
    "\n",
    "# train_index = shuffles[:train_set_size]\n",
    "# test_index = shuffles[train_set_size:]\n",
    "\n",
    "# train_set = loan.iloc[train_index]\n",
    "# test_set = loan.iloc[test_index]"
   ]
  },
  {
   "cell_type": "code",
   "execution_count": 22,
   "metadata": {},
   "outputs": [
    {
     "data": {
      "text/plain": [
       "Y    67.708333\n",
       "N    32.291667\n",
       "Name: Loan_Status, dtype: float64"
      ]
     },
     "execution_count": 22,
     "metadata": {},
     "output_type": "execute_result"
    }
   ],
   "source": [
    "(strat_train_set[\"Loan_Status\"].value_counts()/len(strat_train_set[\"Loan_Status\"]))*100"
   ]
  },
  {
   "cell_type": "code",
   "execution_count": 23,
   "metadata": {
    "scrolled": true
   },
   "outputs": [
    {
     "data": {
      "text/plain": [
       "1.0    85.416667\n",
       "0.0    14.583333\n",
       "Name: Credit_History, dtype: float64"
      ]
     },
     "execution_count": 23,
     "metadata": {},
     "output_type": "execute_result"
    }
   ],
   "source": [
    "(strat_train_set[\"Credit_History\"].value_counts()/len(strat_train_set[\"Credit_History\"]))*100"
   ]
  },
  {
   "cell_type": "markdown",
   "metadata": {},
   "source": [
    "Train set now contains similar distribution in terms of the \"Credit_History\" column!"
   ]
  },
  {
   "cell_type": "code",
   "execution_count": 24,
   "metadata": {},
   "outputs": [
    {
     "data": {
      "text/plain": [
       "<AxesSubplot:>"
      ]
     },
     "execution_count": 24,
     "metadata": {},
     "output_type": "execute_result"
    },
    {
     "data": {
      "image/png": "[encoded data removed]",
      "text/plain": [
       "<Figure size 432x288 with 1 Axes>"
      ]
     },
     "metadata": {
      "needs_background": "light"
     },
     "output_type": "display_data"
    }
   ],
   "source": [
    "strat_train_set[\"income_cat\"].sort_values().hist()\n",
    "# All categories are present"
   ]
  },
  {
   "cell_type": "code",
   "execution_count": 25,
   "metadata": {},
   "outputs": [],
   "source": [
    "# Deleting the \"income cat\" column from both train & test sets\n",
    "strat_train_set = strat_train_set.drop([\"income_cat\"], axis = 1)\n",
    "strat_test_set = strat_test_set.drop([\"income_cat\"], axis = 1)"
   ]
  },
  {
   "cell_type": "code",
   "execution_count": 26,
   "metadata": {},
   "outputs": [],
   "source": [
    "# copying training dataset into \"loan2\" dataframe\n",
    "loan2 = strat_train_set.copy()"
   ]
  },
  {
   "cell_type": "code",
   "execution_count": 27,
   "metadata": {},
   "outputs": [
    {
     "data": {
      "text/plain": [
       "Income_of_Applicant          1.000000\n",
       "Loan_Amount_Requirement      0.536660\n",
       "Credit_History               0.034252\n",
       "Loan_Amount_Term            -0.012804\n",
       "Income_of_Joint_Applicant   -0.135841\n",
       "Name: Income_of_Applicant, dtype: float64"
      ]
     },
     "execution_count": 27,
     "metadata": {},
     "output_type": "execute_result"
    }
   ],
   "source": [
    "loan2.corr()[\"Income_of_Applicant\"].sort_values(ascending = False)"
   ]
  },
  {
   "cell_type": "code",
   "execution_count": 28,
   "metadata": {},
   "outputs": [
    {
     "data": {
      "text/plain": [
       "array([[<AxesSubplot:xlabel='Income_of_Applicant', ylabel='Income_of_Applicant'>,\n",
       "        <AxesSubplot:xlabel='Income_of_Joint_Applicant', ylabel='Income_of_Applicant'>,\n",
       "        <AxesSubplot:xlabel='Loan_Amount_Requirement', ylabel='Income_of_Applicant'>,\n",
       "        <AxesSubplot:xlabel='Loan_Amount_Term', ylabel='Income_of_Applicant'>,\n",
       "        <AxesSubplot:xlabel='Credit_History', ylabel='Income_of_Applicant'>],\n",
       "       [<AxesSubplot:xlabel='Income_of_Applicant', ylabel='Income_of_Joint_Applicant'>,\n",
       "        <AxesSubplot:xlabel='Income_of_Joint_Applicant', ylabel='Income_of_Joint_Applicant'>,\n",
       "        <AxesSubplot:xlabel='Loan_Amount_Requirement', ylabel='Income_of_Joint_Applicant'>,\n",
       "        <AxesSubplot:xlabel='Loan_Amount_Term', ylabel='Income_of_Joint_Applicant'>,\n",
       "        <AxesSubplot:xlabel='Credit_History', ylabel='Income_of_Joint_Applicant'>],\n",
       "       [<AxesSubplot:xlabel='Income_of_Applicant', ylabel='Loan_Amount_Requirement'>,\n",
       "        <AxesSubplot:xlabel='Income_of_Joint_Applicant', ylabel='Loan_Amount_Requirement'>,\n",
       "        <AxesSubplot:xlabel='Loan_Amount_Requirement', ylabel='Loan_Amount_Requirement'>,\n",
       "        <AxesSubplot:xlabel='Loan_Amount_Term', ylabel='Loan_Amount_Requirement'>,\n",
       "        <AxesSubplot:xlabel='Credit_History', ylabel='Loan_Amount_Requirement'>],\n",
       "       [<AxesSubplot:xlabel='Income_of_Applicant', ylabel='Loan_Amount_Term'>,\n",
       "        <AxesSubplot:xlabel='Income_of_Joint_Applicant', ylabel='Loan_Amount_Term'>,\n",
       "        <AxesSubplot:xlabel='Loan_Amount_Requirement', ylabel='Loan_Amount_Term'>,\n",
       "        <AxesSubplot:xlabel='Loan_Amount_Term', ylabel='Loan_Amount_Term'>,\n",
       "        <AxesSubplot:xlabel='Credit_History', ylabel='Loan_Amount_Term'>],\n",
       "       [<AxesSubplot:xlabel='Income_of_Applicant', ylabel='Credit_History'>,\n",
       "        <AxesSubplot:xlabel='Income_of_Joint_Applicant', ylabel='Credit_History'>,\n",
       "        <AxesSubplot:xlabel='Loan_Amount_Requirement', ylabel='Credit_History'>,\n",
       "        <AxesSubplot:xlabel='Loan_Amount_Term', ylabel='Credit_History'>,\n",
       "        <AxesSubplot:xlabel='Credit_History', ylabel='Credit_History'>]],\n",
       "      dtype=object)"
      ]
     },
     "execution_count": 28,
     "metadata": {},
     "output_type": "execute_result"
    },
    {
     "data": {
      "image/png": "[encoded data removed]",
      "text/plain": [
       "<Figure size 1080x1080 with 25 Axes>"
      ]
     },
     "metadata": {
      "needs_background": "light"
     },
     "output_type": "display_data"
    }
   ],
   "source": [
    "pd.plotting.scatter_matrix(loan2, figsize = (15,15))"
   ]
  },
  {
   "cell_type": "code",
   "execution_count": 29,
   "metadata": {},
   "outputs": [
    {
     "data": {
      "text/plain": [
       "<AxesSubplot:xlabel='Income_of_Applicant', ylabel='Loan_Amount_Requirement'>"
      ]
     },
     "execution_count": 29,
     "metadata": {},
     "output_type": "execute_result"
    },
    {
     "data": {
      "image/png": "[encoded data removed]",
      "text/plain": [
       "<Figure size 1080x432 with 1 Axes>"
      ]
     },
     "metadata": {
      "needs_background": "light"
     },
     "output_type": "display_data"
    }
   ],
   "source": [
    "loan2.plot(kind = \"scatter\", x = \"Income_of_Applicant\", y = \"Loan_Amount_Requirement\", alpha = 0.5, figsize = (15,6))"
   ]
  },
  {
   "cell_type": "markdown",
   "metadata": {},
   "source": [
    "we see correlation between the two independent variables - \"Income_of_Applicant\" & \"Loan_Amount_Requirement\" which we can explore later!"
   ]
  },
  {
   "cell_type": "markdown",
   "metadata": {},
   "source": [
    "### Now  we can start building our model!"
   ]
  },
  {
   "cell_type": "markdown",
   "metadata": {},
   "source": [
    "### Starting with creating new training set!"
   ]
  },
  {
   "cell_type": "code",
   "execution_count": 30,
   "metadata": {},
   "outputs": [],
   "source": [
    "train_loan_x = strat_train_set.drop(\"Loan_Status\", axis = 1)\n",
    "train_loan_y = strat_train_set[\"Loan_Status\"].copy"
   ]
  },
  {
   "cell_type": "code",
   "execution_count": 31,
   "metadata": {},
   "outputs": [
    {
     "data": {
      "text/html": [
       "<div>\n",
       "<style scoped>\n",
       "    .dataframe tbody tr th:only-of-type {\n",
       "        vertical-align: middle;\n",
       "    }\n",
       "\n",
       "    .dataframe tbody tr th {\n",
       "        vertical-align: top;\n",
       "    }\n",
       "\n",
       "    .dataframe thead th {\n",
       "        text-align: right;\n",
       "    }\n",
       "</style>\n",
       "<table border=\"1\" class=\"dataframe\">\n",
       "  <thead>\n",
       "    <tr style=\"text-align: right;\">\n",
       "      <th></th>\n",
       "      <th>Income_of_Applicant</th>\n",
       "      <th>Income_of_Joint_Applicant</th>\n",
       "      <th>Loan_Amount_Requirement</th>\n",
       "      <th>Loan_Amount_Term</th>\n",
       "      <th>Credit_History</th>\n",
       "      <th>Gender</th>\n",
       "      <th>Is_Married</th>\n",
       "      <th>No_of_Dependents</th>\n",
       "      <th>Level_of_Education</th>\n",
       "      <th>IS_Self_Employed</th>\n",
       "      <th>Area_of_Property</th>\n",
       "    </tr>\n",
       "  </thead>\n",
       "  <tbody>\n",
       "    <tr>\n",
       "      <th>582</th>\n",
       "      <td>3166</td>\n",
       "      <td>0.000000</td>\n",
       "      <td>36.0</td>\n",
       "      <td>360.0</td>\n",
       "      <td>1.0</td>\n",
       "      <td>Female</td>\n",
       "      <td>Yes</td>\n",
       "      <td>0</td>\n",
       "      <td>Graduate</td>\n",
       "      <td>No</td>\n",
       "      <td>Semiurban</td>\n",
       "    </tr>\n",
       "    <tr>\n",
       "      <th>428</th>\n",
       "      <td>2920</td>\n",
       "      <td>16.120001</td>\n",
       "      <td>87.0</td>\n",
       "      <td>360.0</td>\n",
       "      <td>1.0</td>\n",
       "      <td>Male</td>\n",
       "      <td>Yes</td>\n",
       "      <td>0</td>\n",
       "      <td>Graduate</td>\n",
       "      <td>No</td>\n",
       "      <td>Rural</td>\n",
       "    </tr>\n",
       "    <tr>\n",
       "      <th>357</th>\n",
       "      <td>3875</td>\n",
       "      <td>0.000000</td>\n",
       "      <td>67.0</td>\n",
       "      <td>360.0</td>\n",
       "      <td>1.0</td>\n",
       "      <td>Male</td>\n",
       "      <td>Yes</td>\n",
       "      <td>1</td>\n",
       "      <td>Graduate</td>\n",
       "      <td>No</td>\n",
       "      <td>Urban</td>\n",
       "    </tr>\n",
       "    <tr>\n",
       "      <th>405</th>\n",
       "      <td>4547</td>\n",
       "      <td>0.000000</td>\n",
       "      <td>115.0</td>\n",
       "      <td>360.0</td>\n",
       "      <td>1.0</td>\n",
       "      <td>Female</td>\n",
       "      <td>No</td>\n",
       "      <td>0</td>\n",
       "      <td>Graduate</td>\n",
       "      <td>No</td>\n",
       "      <td>Semiurban</td>\n",
       "    </tr>\n",
       "    <tr>\n",
       "      <th>561</th>\n",
       "      <td>19484</td>\n",
       "      <td>0.000000</td>\n",
       "      <td>600.0</td>\n",
       "      <td>360.0</td>\n",
       "      <td>1.0</td>\n",
       "      <td>Female</td>\n",
       "      <td>Yes</td>\n",
       "      <td>1</td>\n",
       "      <td>Graduate</td>\n",
       "      <td>Yes</td>\n",
       "      <td>Semiurban</td>\n",
       "    </tr>\n",
       "  </tbody>\n",
       "</table>\n",
       "</div>"
      ],
      "text/plain": [
       "     Income_of_Applicant  Income_of_Joint_Applicant  Loan_Amount_Requirement  \\\n",
       "582                 3166                   0.000000                     36.0   \n",
       "428                 2920                  16.120001                     87.0   \n",
       "357                 3875                   0.000000                     67.0   \n",
       "405                 4547                   0.000000                    115.0   \n",
       "561                19484                   0.000000                    600.0   \n",
       "\n",
       "     Loan_Amount_Term  Credit_History  Gender Is_Married No_of_Dependents  \\\n",
       "582             360.0             1.0  Female        Yes                0   \n",
       "428             360.0             1.0    Male        Yes                0   \n",
       "357             360.0             1.0    Male        Yes                1   \n",
       "405             360.0             1.0  Female         No                0   \n",
       "561             360.0             1.0  Female        Yes                1   \n",
       "\n",
       "    Level_of_Education IS_Self_Employed Area_of_Property  \n",
       "582           Graduate               No        Semiurban  \n",
       "428           Graduate               No            Rural  \n",
       "357           Graduate               No            Urban  \n",
       "405           Graduate               No        Semiurban  \n",
       "561           Graduate              Yes        Semiurban  "
      ]
     },
     "execution_count": 31,
     "metadata": {},
     "output_type": "execute_result"
    }
   ],
   "source": [
    "train_loan_x.head()"
   ]
  },
  {
   "cell_type": "code",
   "execution_count": 32,
   "metadata": {},
   "outputs": [
    {
     "name": "stdout",
     "output_type": "stream",
     "text": [
      "<class 'pandas.core.frame.DataFrame'>\n",
      "Int64Index: 384 entries, 582 to 109\n",
      "Data columns (total 11 columns):\n",
      " #   Column                     Non-Null Count  Dtype  \n",
      "---  ------                     --------------  -----  \n",
      " 0   Income_of_Applicant        384 non-null    int64  \n",
      " 1   Income_of_Joint_Applicant  384 non-null    float64\n",
      " 2   Loan_Amount_Requirement    384 non-null    float64\n",
      " 3   Loan_Amount_Term           384 non-null    float64\n",
      " 4   Credit_History             384 non-null    float64\n",
      " 5   Gender                     384 non-null    object \n",
      " 6   Is_Married                 384 non-null    object \n",
      " 7   No_of_Dependents           384 non-null    object \n",
      " 8   Level_of_Education         384 non-null    object \n",
      " 9   IS_Self_Employed           384 non-null    object \n",
      " 10  Area_of_Property           384 non-null    object \n",
      "dtypes: float64(4), int64(1), object(6)\n",
      "memory usage: 36.0+ KB\n"
     ]
    }
   ],
   "source": [
    "train_loan_x.info()"
   ]
  },
  {
   "cell_type": "code",
   "execution_count": 33,
   "metadata": {},
   "outputs": [
    {
     "name": "stdout",
     "output_type": "stream",
     "text": [
      "Gender -> ['Female' 'Male']\n",
      "Is_Married -> ['Yes' 'No']\n",
      "No_of_Dependents -> ['0' '1' '2' '3+']\n",
      "Level_of_Education -> ['Graduate' 'Not Graduate']\n",
      "IS_Self_Employed -> ['No' 'Yes']\n",
      "Area_of_Property -> ['Semiurban' 'Rural' 'Urban']\n"
     ]
    }
   ],
   "source": [
    "for i in train_loan_x.columns:\n",
    "    if train_loan_x[i].dtypes == \"O\":\n",
    "        print(i + \" -> \" + str(train_loan_x[i].unique()))"
   ]
  },
  {
   "cell_type": "markdown",
   "metadata": {},
   "source": [
    "As the number of categories is low, we can use Label encoding instead of One-Hot encoding."
   ]
  },
  {
   "cell_type": "code",
   "execution_count": 34,
   "metadata": {},
   "outputs": [],
   "source": [
    "to_binarize = [\"Gender\", \"Is_Married\", \"Level_of_Education\", \"IS_Self_Employed\"]\n",
    "to_one_hot = [\"No_of_Dependents\", \"Area_of_Property\"]"
   ]
  },
  {
   "cell_type": "code",
   "execution_count": 35,
   "metadata": {},
   "outputs": [],
   "source": [
    "from sklearn.preprocessing import LabelBinarizer"
   ]
  },
  {
   "cell_type": "code",
   "execution_count": 36,
   "metadata": {},
   "outputs": [
    {
     "data": {
      "text/html": [
       "<div>\n",
       "<style scoped>\n",
       "    .dataframe tbody tr th:only-of-type {\n",
       "        vertical-align: middle;\n",
       "    }\n",
       "\n",
       "    .dataframe tbody tr th {\n",
       "        vertical-align: top;\n",
       "    }\n",
       "\n",
       "    .dataframe thead th {\n",
       "        text-align: right;\n",
       "    }\n",
       "</style>\n",
       "<table border=\"1\" class=\"dataframe\">\n",
       "  <thead>\n",
       "    <tr style=\"text-align: right;\">\n",
       "      <th></th>\n",
       "      <th>Income_of_Applicant</th>\n",
       "      <th>Income_of_Joint_Applicant</th>\n",
       "      <th>Loan_Amount_Requirement</th>\n",
       "      <th>Loan_Amount_Term</th>\n",
       "      <th>Credit_History</th>\n",
       "      <th>Gender</th>\n",
       "      <th>Is_Married</th>\n",
       "      <th>No_of_Dependents</th>\n",
       "      <th>Level_of_Education</th>\n",
       "      <th>IS_Self_Employed</th>\n",
       "      <th>Area_of_Property</th>\n",
       "    </tr>\n",
       "  </thead>\n",
       "  <tbody>\n",
       "    <tr>\n",
       "      <th>582</th>\n",
       "      <td>3166</td>\n",
       "      <td>0.000000</td>\n",
       "      <td>36.0</td>\n",
       "      <td>360.0</td>\n",
       "      <td>1.0</td>\n",
       "      <td>0</td>\n",
       "      <td>1</td>\n",
       "      <td>0</td>\n",
       "      <td>0</td>\n",
       "      <td>0</td>\n",
       "      <td>Semiurban</td>\n",
       "    </tr>\n",
       "    <tr>\n",
       "      <th>428</th>\n",
       "      <td>2920</td>\n",
       "      <td>16.120001</td>\n",
       "      <td>87.0</td>\n",
       "      <td>360.0</td>\n",
       "      <td>1.0</td>\n",
       "      <td>1</td>\n",
       "      <td>1</td>\n",
       "      <td>0</td>\n",
       "      <td>0</td>\n",
       "      <td>0</td>\n",
       "      <td>Rural</td>\n",
       "    </tr>\n",
       "    <tr>\n",
       "      <th>357</th>\n",
       "      <td>3875</td>\n",
       "      <td>0.000000</td>\n",
       "      <td>67.0</td>\n",
       "      <td>360.0</td>\n",
       "      <td>1.0</td>\n",
       "      <td>1</td>\n",
       "      <td>1</td>\n",
       "      <td>1</td>\n",
       "      <td>0</td>\n",
       "      <td>0</td>\n",
       "      <td>Urban</td>\n",
       "    </tr>\n",
       "    <tr>\n",
       "      <th>405</th>\n",
       "      <td>4547</td>\n",
       "      <td>0.000000</td>\n",
       "      <td>115.0</td>\n",
       "      <td>360.0</td>\n",
       "      <td>1.0</td>\n",
       "      <td>0</td>\n",
       "      <td>0</td>\n",
       "      <td>0</td>\n",
       "      <td>0</td>\n",
       "      <td>0</td>\n",
       "      <td>Semiurban</td>\n",
       "    </tr>\n",
       "    <tr>\n",
       "      <th>561</th>\n",
       "      <td>19484</td>\n",
       "      <td>0.000000</td>\n",
       "      <td>600.0</td>\n",
       "      <td>360.0</td>\n",
       "      <td>1.0</td>\n",
       "      <td>0</td>\n",
       "      <td>1</td>\n",
       "      <td>1</td>\n",
       "      <td>0</td>\n",
       "      <td>1</td>\n",
       "      <td>Semiurban</td>\n",
       "    </tr>\n",
       "  </tbody>\n",
       "</table>\n",
       "</div>"
      ],
      "text/plain": [
       "     Income_of_Applicant  Income_of_Joint_Applicant  Loan_Amount_Requirement  \\\n",
       "582                 3166                   0.000000                     36.0   \n",
       "428                 2920                  16.120001                     87.0   \n",
       "357                 3875                   0.000000                     67.0   \n",
       "405                 4547                   0.000000                    115.0   \n",
       "561                19484                   0.000000                    600.0   \n",
       "\n",
       "     Loan_Amount_Term  Credit_History  Gender  Is_Married No_of_Dependents  \\\n",
       "582             360.0             1.0       0           1                0   \n",
       "428             360.0             1.0       1           1                0   \n",
       "357             360.0             1.0       1           1                1   \n",
       "405             360.0             1.0       0           0                0   \n",
       "561             360.0             1.0       0           1                1   \n",
       "\n",
       "     Level_of_Education  IS_Self_Employed Area_of_Property  \n",
       "582                   0                 0        Semiurban  \n",
       "428                   0                 0            Rural  \n",
       "357                   0                 0            Urban  \n",
       "405                   0                 0        Semiurban  \n",
       "561                   0                 1        Semiurban  "
      ]
     },
     "execution_count": 36,
     "metadata": {},
     "output_type": "execute_result"
    }
   ],
   "source": [
    "for i in to_binarize:\n",
    "    train_loan_x[i] = LabelBinarizer().fit_transform(train_loan_x[i])\n",
    "train_loan_x.head()"
   ]
  },
  {
   "cell_type": "code",
   "execution_count": 37,
   "metadata": {},
   "outputs": [
    {
     "name": "stdout",
     "output_type": "stream",
     "text": [
      "Gender -> [0 1]\n",
      "Is_Married -> [1 0]\n",
      "No_of_Dependents -> ['0' '1' '2' '3+']\n",
      "Level_of_Education -> [0 1]\n",
      "IS_Self_Employed -> [0 1]\n",
      "Area_of_Property -> ['Semiurban' 'Rural' 'Urban']\n"
     ]
    }
   ],
   "source": [
    "for i in train_loan_x.columns:\n",
    "    if train_loan_x[i].dtypes == \"int\" or train_loan_x[i].dtypes == \"O\":\n",
    "        print(i + \" -> \" + str(train_loan_x[i].unique()))"
   ]
  },
  {
   "cell_type": "code",
   "execution_count": 38,
   "metadata": {},
   "outputs": [],
   "source": [
    "from sklearn.preprocessing import OneHotEncoder"
   ]
  },
  {
   "cell_type": "code",
   "execution_count": 44,
   "metadata": {},
   "outputs": [],
   "source": [
    "one_enc = OneHotEncoder()\n",
    "train_loan_x_one_hot = one_enc.fit_transform(train_loan_x)"
   ]
  },
  {
   "cell_type": "code",
   "execution_count": 50,
   "metadata": {},
   "outputs": [
    {
     "data": {
      "text/plain": [
       "<384x727 sparse matrix of type '<class 'numpy.float64'>'\n",
       "\twith 4224 stored elements in Compressed Sparse Row format>"
      ]
     },
     "execution_count": 50,
     "metadata": {},
     "output_type": "execute_result"
    }
   ],
   "source": [
    "train_loan_x_one_hot"
   ]
  },
  {
   "cell_type": "code",
   "execution_count": 51,
   "metadata": {
    "scrolled": false
   },
   "outputs": [
    {
     "data": {
      "text/plain": [
       "[array([  150,   645,  1025,  1299,  1378,  1442,  1500,  1538,  1600,\n",
       "         1668,  1759,  1782,  1800,  1809,  1811,  1820,  1853,  1863,\n",
       "         1926,  1958,  1963,  1977,  1993,  2014,  2045,  2060,  2071,\n",
       "         2083,  2130,  2132,  2137,  2149,  2165,  2167,  2178,  2192,\n",
       "         2213,  2221,  2237,  2239,  2253,  2281,  2301,  2309,  2333,\n",
       "         2366,  2378,  2383,  2400,  2423,  2439,  2454,  2484,  2491,\n",
       "         2499,  2500,  2510,  2583,  2600,  2609,  2620,  2625,  2645,\n",
       "         2647,  2653,  2666,  2679,  2698,  2708,  2717,  2718,  2726,\n",
       "         2755,  2768,  2785,  2787,  2799,  2833,  2876,  2882,  2889,\n",
       "         2895,  2917,  2920,  2935,  2947,  2958,  2965,  2971,  2995,\n",
       "         3000,  3015,  3029,  3036,  3052,  3062,  3073,  3075,  3083,\n",
       "         3086,  3089,  3095,  3100,  3125,  3155,  3158,  3159,  3166,\n",
       "         3167,  3173,  3180,  3200,  3208,  3229,  3232,  3237,  3244,\n",
       "         3250,  3254,  3283,  3315,  3316,  3326,  3333,  3340,  3358,\n",
       "         3366,  3400,  3406,  3418,  3427,  3430,  3450,  3459,  3481,\n",
       "         3497,  3500,  3510,  3522,  3547,  3588,  3593,  3597,  3598,\n",
       "         3600,  3625,  3660,  3667,  3675,  3704,  3708,  3727,  3748,\n",
       "         3750,  3762,  3775,  3800,  3812,  3814,  3833,  3846,  3850,\n",
       "         3858,  3859,  3867,  3875,  3887,  3902,  3927,  3948,  3975,\n",
       "         3987,  3988,  3993,  4000,  4006,  4009,  4053,  4095,  4106,\n",
       "         4124,  4133,  4166,  4167,  4180,  4188,  4200,  4226,  4281,\n",
       "         4283,  4288,  4300,  4301,  4333,  4342,  4344,  4350,  4354,\n",
       "         4384,  4400,  4547,  4554,  4566,  4583,  4600,  4606,  4608,\n",
       "         4652,  4666,  4683,  4691,  4692,  4707,  4708,  4723,  4750,\n",
       "         4817,  4843,  4860,  4865,  4885,  4887,  4917,  5000,  5042,\n",
       "         5185,  5250,  5266,  5285,  5316,  5391,  5417,  5468,  5488,\n",
       "         5500,  5516,  5532,  5568,  5649,  5677,  5695,  5703,  5708,\n",
       "         5726,  5780,  5800,  5818,  5821,  5829,  6000,  6033,  6045,\n",
       "         6050,  6065,  6096,  6133,  6216,  6250,  6277,  6283,  6325,\n",
       "         6383,  6400,  6406,  6417,  6500,  6608,  6700,  6783,  6822,\n",
       "         6875,  6950,  7085,  7100,  7167,  7200,  7441,  7583,  7740,\n",
       "         7787,  7901,  7933,  7948,  8000,  8072,  8080,  8300,  8333,\n",
       "         8334,  8566,  8624,  8666,  8750,  8799,  9083,  9166,  9167,\n",
       "         9323,  9328,  9504,  9508,  9538,  9560,  9703,  9963, 10000,\n",
       "        10139, 10408, 10416, 10513, 10750, 10833, 11000, 11146, 11417,\n",
       "        11500, 11757, 12000, 12500, 12841, 13262, 14583, 14683, 14866,\n",
       "        14880, 15000, 15759, 16120, 16250, 16525, 16666, 16667, 17263,\n",
       "        17500, 18165, 18333, 19484, 19730, 20233, 33846, 37719, 39147,\n",
       "        39999], dtype=int64),\n",
       " array([0.00000000e+00, 1.61200008e+01, 1.89000000e+02, 2.40000000e+02,\n",
       "        2.42000000e+02, 4.61000000e+02, 5.05000000e+02, 5.36000000e+02,\n",
       "        7.36000000e+02, 7.54000000e+02, 8.00000000e+02, 8.30000000e+02,\n",
       "        9.13000000e+02, 9.23000000e+02, 9.83000000e+02, 9.85799988e+02,\n",
       "        9.97000000e+02, 1.00000000e+03, 1.01400000e+03, 1.03000000e+03,\n",
       "        1.03200000e+03, 1.04000000e+03, 1.04100000e+03, 1.08300000e+03,\n",
       "        1.08600000e+03, 1.12600000e+03, 1.16700000e+03, 1.22900000e+03,\n",
       "        1.25000000e+03, 1.25500000e+03, 1.28000000e+03, 1.28700000e+03,\n",
       "        1.30200000e+03, 1.38700000e+03, 1.40000000e+03, 1.41100000e+03,\n",
       "        1.42400000e+03, 1.42500000e+03, 1.43000000e+03, 1.44700000e+03,\n",
       "        1.45900000e+03, 1.48300000e+03, 1.50000000e+03, 1.50800000e+03,\n",
       "        1.51600000e+03, 1.52600000e+03, 1.56000000e+03, 1.58700000e+03,\n",
       "        1.59100000e+03, 1.61900000e+03, 1.62500000e+03, 1.66400000e+03,\n",
       "        1.66600000e+03, 1.66700000e+03, 1.66800000e+03, 1.69500000e+03,\n",
       "        1.70000000e+03, 1.71000000e+03, 1.71700000e+03, 1.71900000e+03,\n",
       "        1.73300000e+03, 1.74200000e+03, 1.75000000e+03, 1.77400000e+03,\n",
       "        1.77500000e+03, 1.77900000e+03, 1.79300000e+03, 1.80000000e+03,\n",
       "        1.83300000e+03, 1.84300000e+03, 1.85100000e+03, 1.85700000e+03,\n",
       "        1.86300000e+03, 1.86800000e+03, 1.88100000e+03, 1.91100000e+03,\n",
       "        1.91500000e+03, 1.91700000e+03, 1.92900000e+03, 1.95000000e+03,\n",
       "        1.96400000e+03, 1.98300000e+03, 1.98700000e+03, 1.99300000e+03,\n",
       "        2.00000000e+03, 2.00400000e+03, 2.01400000e+03, 2.01600000e+03,\n",
       "        2.03300000e+03, 2.03400000e+03, 2.03500000e+03, 2.05400000e+03,\n",
       "        2.06400000e+03, 2.07900000e+03, 2.08300000e+03, 2.10000000e+03,\n",
       "        2.11800000e+03, 2.14200000e+03, 2.15700000e+03, 2.16000000e+03,\n",
       "        2.16800000e+03, 2.18800000e+03, 2.20000000e+03, 2.20900000e+03,\n",
       "        2.22300000e+03, 2.23200000e+03, 2.25000000e+03, 2.25300000e+03,\n",
       "        2.25400000e+03, 2.27500000e+03, 2.28300000e+03, 2.30200000e+03,\n",
       "        2.30600000e+03, 2.33300000e+03, 2.35800000e+03, 2.40000000e+03,\n",
       "        2.41600000e+03, 2.41700000e+03, 2.42600000e+03, 2.43600000e+03,\n",
       "        2.45100000e+03, 2.45800000e+03, 2.50000000e+03, 2.50400000e+03,\n",
       "        2.52400000e+03, 2.53100000e+03, 2.54100000e+03, 2.56900000e+03,\n",
       "        2.58300000e+03, 2.66900000e+03, 2.73900000e+03, 2.77300000e+03,\n",
       "        2.79100000e+03, 2.84000000e+03, 2.84500000e+03, 2.90000000e+03,\n",
       "        2.92500000e+03, 2.93400000e+03, 3.00000000e+03, 3.02100000e+03,\n",
       "        3.05300000e+03, 3.06600000e+03, 3.15000000e+03, 3.16700000e+03,\n",
       "        3.23700000e+03, 3.25000000e+03, 3.26300000e+03, 3.27400000e+03,\n",
       "        3.30000000e+03, 3.33300000e+03, 3.33400000e+03, 3.44000000e+03,\n",
       "        3.44700000e+03, 3.44900000e+03, 3.50000000e+03, 3.54100000e+03,\n",
       "        3.60000000e+03, 3.68300000e+03, 3.80600000e+03, 3.85000000e+03,\n",
       "        3.89000000e+03, 3.90600000e+03, 4.00000000e+03, 4.16700000e+03,\n",
       "        4.26600000e+03, 4.30000000e+03, 4.33300000e+03, 4.41600000e+03,\n",
       "        4.41700000e+03, 4.59500000e+03, 4.60000000e+03, 4.64800000e+03,\n",
       "        4.75000000e+03, 4.98300000e+03, 4.99600000e+03, 5.06400000e+03,\n",
       "        5.26600000e+03, 5.62400000e+03, 5.62500000e+03, 5.70100000e+03,\n",
       "        6.25000000e+03, 6.66600000e+03, 7.16600000e+03, 7.21000000e+03,\n",
       "        7.75000000e+03, 8.10600000e+03, 8.98000000e+03, 1.09680000e+04,\n",
       "        1.13000000e+04, 2.00000000e+04]),\n",
       " array([  9.,  17.,  25.,  26.,  30.,  35.,  36.,  40.,  44.,  45.,  46.,\n",
       "         48.,  50.,  53.,  54.,  55.,  60.,  62.,  63.,  65.,  66.,  67.,\n",
       "         70.,  71.,  73.,  74.,  75.,  76.,  78.,  80.,  81.,  83.,  84.,\n",
       "         86.,  87.,  88.,  89.,  90.,  93.,  94.,  95.,  96.,  97.,  98.,\n",
       "         99., 100., 101., 103., 104., 105., 106., 107., 108., 109., 110.,\n",
       "        111., 112., 113., 114., 115., 116., 117., 118., 119., 120., 121.,\n",
       "        122., 123., 124., 125., 126., 127., 128., 129., 130., 131., 132.,\n",
       "        133., 134., 135., 136., 137., 138., 139., 140., 141., 142., 144.,\n",
       "        146., 148., 149., 150., 151., 152., 153., 154., 155., 156., 157.,\n",
       "        158., 160., 161., 162., 164., 165., 167., 168., 170., 172., 173.,\n",
       "        175., 176., 178., 180., 181., 182., 184., 185., 187., 188., 191.,\n",
       "        192., 194., 200., 201., 205., 207., 208., 209., 210., 214., 216.,\n",
       "        218., 225., 228., 230., 234., 239., 240., 243., 244., 246., 250.,\n",
       "        253., 255., 258., 259., 260., 275., 280., 286., 290., 300., 304.,\n",
       "        308., 312., 320., 324., 349., 376., 400., 436., 480., 495., 496.,\n",
       "        500., 570., 600.]),\n",
       " array([ 36.,  60.,  84., 120., 180., 240., 300., 360., 480.]),\n",
       " array([0., 1.]),\n",
       " array([0, 1]),\n",
       " array([0, 1]),\n",
       " array(['0', '1', '2', '3+'], dtype=object),\n",
       " array([0, 1]),\n",
       " array([0, 1]),\n",
       " array(['Rural', 'Semiurban', 'Urban'], dtype=object)]"
      ]
     },
     "execution_count": 51,
     "metadata": {},
     "output_type": "execute_result"
    }
   ],
   "source": [
    "one_enc.categories_"
   ]
  },
  {
   "cell_type": "code",
   "execution_count": null,
   "metadata": {},
   "outputs": [],
   "source": []
  }
 ],
 "metadata": {
  "kernelspec": {
   "display_name": "Python 3.7.4 64-bit",
   "language": "python",
   "name": "python37464bit307b39dcff424aaea1adc9bea3b3c115"
  },
  "language_info": {
   "codemirror_mode": {
    "name": "ipython",
    "version": 3
   },
   "file_extension": ".py",
   "mimetype": "text/x-python",
   "name": "python",
   "nbconvert_exporter": "python",
   "pygments_lexer": "ipython3",
   "version": "3.7.4"
  }
 },
 "nbformat": 4,
 "nbformat_minor": 4
}
