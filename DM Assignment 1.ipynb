{
 "cells": [
  {
   "cell_type": "code",
   "execution_count": 1,
   "metadata": {},
   "outputs": [],
   "source": [
    "# import libraries\n",
    "\n",
    "import pandas as pd\n",
    "import numpy as np\n",
    "import matplotlib.pyplot as plt\n",
    "import seaborn as sns\n",
    "from sklearn.preprocessing import LabelBinarizer\n",
    "from sklearn.preprocessing import MinMaxScaler\n",
    "from sklearn.linear_model import LogisticRegression\n",
    "from sklearn.linear_model import LogisticRegressionCV\n",
    "from sklearn.model_selection import RepeatedStratifiedKFold\n",
    "from sklearn.model_selection import GridSearchCV\n",
    "\n",
    "from sklearn.metrics import jaccard_score\n",
    "from sklearn.metrics import f1_score\n",
    "from sklearn.metrics import log_loss\n",
    "from sklearn.metrics import confusion_matrix\n",
    "\n",
    "%matplotlib inline"
   ]
  },
  {
   "cell_type": "code",
   "execution_count": 2,
   "metadata": {},
   "outputs": [],
   "source": [
    "loan = pd.read_csv(\"Train_Data.csv\")\n",
    "loan.set_index(\"ID\", inplace = True)"
   ]
  },
  {
   "cell_type": "code",
   "execution_count": 3,
   "metadata": {},
   "outputs": [],
   "source": [
    "loan.reset_index(drop=True, inplace = True)"
   ]
  },
  {
   "cell_type": "code",
   "execution_count": 4,
   "metadata": {},
   "outputs": [
    {
     "data": {
      "text/html": [
       "<div>\n",
       "<style scoped>\n",
       "    .dataframe tbody tr th:only-of-type {\n",
       "        vertical-align: middle;\n",
       "    }\n",
       "\n",
       "    .dataframe tbody tr th {\n",
       "        vertical-align: top;\n",
       "    }\n",
       "\n",
       "    .dataframe thead th {\n",
       "        text-align: right;\n",
       "    }\n",
       "</style>\n",
       "<table border=\"1\" class=\"dataframe\">\n",
       "  <thead>\n",
       "    <tr style=\"text-align: right;\">\n",
       "      <th></th>\n",
       "      <th>Income_of_Applicant</th>\n",
       "      <th>Income_of_Joint_Applicant</th>\n",
       "      <th>Loan_Amount_Requirement</th>\n",
       "      <th>Loan_Amount_Term</th>\n",
       "      <th>Credit_History</th>\n",
       "      <th>Gender</th>\n",
       "      <th>Is_Married</th>\n",
       "      <th>No_of_Dependents</th>\n",
       "      <th>Level_of_Education</th>\n",
       "      <th>IS_Self_Employed</th>\n",
       "      <th>Area_of_Property</th>\n",
       "      <th>Loan_Status</th>\n",
       "    </tr>\n",
       "  </thead>\n",
       "  <tbody>\n",
       "    <tr>\n",
       "      <th>0</th>\n",
       "      <td>5849</td>\n",
       "      <td>0.0</td>\n",
       "      <td>NaN</td>\n",
       "      <td>360.0</td>\n",
       "      <td>1.0</td>\n",
       "      <td>Male</td>\n",
       "      <td>No</td>\n",
       "      <td>0</td>\n",
       "      <td>Graduate</td>\n",
       "      <td>No</td>\n",
       "      <td>Urban</td>\n",
       "      <td>Y</td>\n",
       "    </tr>\n",
       "    <tr>\n",
       "      <th>1</th>\n",
       "      <td>4583</td>\n",
       "      <td>1508.0</td>\n",
       "      <td>128.0</td>\n",
       "      <td>360.0</td>\n",
       "      <td>1.0</td>\n",
       "      <td>Male</td>\n",
       "      <td>Yes</td>\n",
       "      <td>1</td>\n",
       "      <td>Graduate</td>\n",
       "      <td>No</td>\n",
       "      <td>Rural</td>\n",
       "      <td>N</td>\n",
       "    </tr>\n",
       "    <tr>\n",
       "      <th>2</th>\n",
       "      <td>3000</td>\n",
       "      <td>0.0</td>\n",
       "      <td>66.0</td>\n",
       "      <td>360.0</td>\n",
       "      <td>1.0</td>\n",
       "      <td>Male</td>\n",
       "      <td>Yes</td>\n",
       "      <td>0</td>\n",
       "      <td>Graduate</td>\n",
       "      <td>Yes</td>\n",
       "      <td>Urban</td>\n",
       "      <td>Y</td>\n",
       "    </tr>\n",
       "    <tr>\n",
       "      <th>3</th>\n",
       "      <td>2583</td>\n",
       "      <td>2358.0</td>\n",
       "      <td>120.0</td>\n",
       "      <td>360.0</td>\n",
       "      <td>1.0</td>\n",
       "      <td>Male</td>\n",
       "      <td>Yes</td>\n",
       "      <td>0</td>\n",
       "      <td>Not Graduate</td>\n",
       "      <td>No</td>\n",
       "      <td>Urban</td>\n",
       "      <td>Y</td>\n",
       "    </tr>\n",
       "    <tr>\n",
       "      <th>4</th>\n",
       "      <td>6000</td>\n",
       "      <td>0.0</td>\n",
       "      <td>141.0</td>\n",
       "      <td>360.0</td>\n",
       "      <td>1.0</td>\n",
       "      <td>Male</td>\n",
       "      <td>No</td>\n",
       "      <td>0</td>\n",
       "      <td>Graduate</td>\n",
       "      <td>No</td>\n",
       "      <td>Urban</td>\n",
       "      <td>Y</td>\n",
       "    </tr>\n",
       "  </tbody>\n",
       "</table>\n",
       "</div>"
      ],
      "text/plain": [
       "   Income_of_Applicant  Income_of_Joint_Applicant  Loan_Amount_Requirement  \\\n",
       "0                 5849                        0.0                      NaN   \n",
       "1                 4583                     1508.0                    128.0   \n",
       "2                 3000                        0.0                     66.0   \n",
       "3                 2583                     2358.0                    120.0   \n",
       "4                 6000                        0.0                    141.0   \n",
       "\n",
       "   Loan_Amount_Term  Credit_History Gender Is_Married No_of_Dependents  \\\n",
       "0             360.0             1.0   Male         No                0   \n",
       "1             360.0             1.0   Male        Yes                1   \n",
       "2             360.0             1.0   Male        Yes                0   \n",
       "3             360.0             1.0   Male        Yes                0   \n",
       "4             360.0             1.0   Male         No                0   \n",
       "\n",
       "  Level_of_Education IS_Self_Employed Area_of_Property Loan_Status  \n",
       "0           Graduate               No            Urban           Y  \n",
       "1           Graduate               No            Rural           N  \n",
       "2           Graduate              Yes            Urban           Y  \n",
       "3       Not Graduate               No            Urban           Y  \n",
       "4           Graduate               No            Urban           Y  "
      ]
     },
     "execution_count": 4,
     "metadata": {},
     "output_type": "execute_result"
    }
   ],
   "source": [
    "loan.head()"
   ]
  },
  {
   "cell_type": "code",
   "execution_count": 5,
   "metadata": {
    "scrolled": false
   },
   "outputs": [
    {
     "name": "stdout",
     "output_type": "stream",
     "text": [
      "<class 'pandas.core.frame.DataFrame'>\n",
      "RangeIndex: 614 entries, 0 to 613\n",
      "Data columns (total 12 columns):\n",
      " #   Column                     Non-Null Count  Dtype  \n",
      "---  ------                     --------------  -----  \n",
      " 0   Income_of_Applicant        614 non-null    int64  \n",
      " 1   Income_of_Joint_Applicant  614 non-null    float64\n",
      " 2   Loan_Amount_Requirement    592 non-null    float64\n",
      " 3   Loan_Amount_Term           600 non-null    float64\n",
      " 4   Credit_History             564 non-null    float64\n",
      " 5   Gender                     601 non-null    object \n",
      " 6   Is_Married                 611 non-null    object \n",
      " 7   No_of_Dependents           599 non-null    object \n",
      " 8   Level_of_Education         614 non-null    object \n",
      " 9   IS_Self_Employed           582 non-null    object \n",
      " 10  Area_of_Property           614 non-null    object \n",
      " 11  Loan_Status                614 non-null    object \n",
      "dtypes: float64(4), int64(1), object(7)\n",
      "memory usage: 57.7+ KB\n"
     ]
    }
   ],
   "source": [
    "loan.info()"
   ]
  },
  {
   "cell_type": "code",
   "execution_count": 6,
   "metadata": {},
   "outputs": [
    {
     "data": {
      "text/plain": [
       "0"
      ]
     },
     "execution_count": 6,
     "metadata": {},
     "output_type": "execute_result"
    }
   ],
   "source": [
    "loan.duplicated().sum()"
   ]
  },
  {
   "cell_type": "code",
   "execution_count": 7,
   "metadata": {
    "scrolled": true
   },
   "outputs": [
    {
     "data": {
      "text/plain": [
       "Income_of_Applicant           0\n",
       "Income_of_Joint_Applicant     0\n",
       "Loan_Amount_Requirement      22\n",
       "Loan_Amount_Term             14\n",
       "Credit_History               50\n",
       "Gender                       13\n",
       "Is_Married                    3\n",
       "No_of_Dependents             15\n",
       "Level_of_Education            0\n",
       "IS_Self_Employed             32\n",
       "Area_of_Property              0\n",
       "Loan_Status                   0\n",
       "dtype: int64"
      ]
     },
     "execution_count": 7,
     "metadata": {},
     "output_type": "execute_result"
    }
   ],
   "source": [
    "loan.isnull().sum()"
   ]
  },
  {
   "cell_type": "code",
   "execution_count": 8,
   "metadata": {
    "scrolled": true
   },
   "outputs": [
    {
     "name": "stdout",
     "output_type": "stream",
     "text": [
      "Total rows with missing values: 21.82 % of total data!!!\n"
     ]
    }
   ],
   "source": [
    "print(\"Total rows with missing values: \" + str(round((loan.isnull().any(axis=1).sum()/loan.shape[0])*100,2)) + \" % of total data!!!\")"
   ]
  },
  {
   "cell_type": "code",
   "execution_count": 9,
   "metadata": {},
   "outputs": [
    {
     "data": {
      "text/plain": [
       "Index(['Loan_Amount_Requirement', 'Loan_Amount_Term', 'Credit_History',\n",
       "       'Gender', 'Is_Married', 'No_of_Dependents', 'IS_Self_Employed'],\n",
       "      dtype='object')"
      ]
     },
     "execution_count": 9,
     "metadata": {},
     "output_type": "execute_result"
    }
   ],
   "source": [
    "loan.columns[loan.isnull().sum()>0]"
   ]
  },
  {
   "cell_type": "markdown",
   "metadata": {},
   "source": [
    "#### Columns in dataset with missing values are:\n",
    "'Loan_Amount_Requirement', 'Loan_Amount_Term', 'Credit_History',\n",
    "       'Gender', 'Is_Married', 'No_of_Dependents', 'IS_Self_Employed'"
   ]
  },
  {
   "cell_type": "code",
   "execution_count": 10,
   "metadata": {
    "scrolled": true
   },
   "outputs": [
    {
     "data": {
      "text/plain": [
       "Text(0.5, 1.0, 'IS_Self_Employed')"
      ]
     },
     "execution_count": 10,
     "metadata": {},
     "output_type": "execute_result"
    },
    {
     "data": {
      "image/png": "[encoded data removed]",
      "text/plain": [
       "<Figure size 1440x360 with 7 Axes>"
      ]
     },
     "metadata": {
      "needs_background": "light"
     },
     "output_type": "display_data"
    }
   ],
   "source": [
    "fig, axes = plt.subplots(1, 7, figsize = (20,5))\n",
    "\n",
    "loan.hist(\"Loan_Amount_Requirement\", ax = axes [0])\n",
    "loan.hist(\"Loan_Amount_Term\", ax = axes[1])\n",
    "loan.hist(\"Credit_History\", ax = axes[2])\n",
    "loan.Gender.value_counts(normalize = True, dropna = False).plot(kind=\"bar\", ax = axes[3]).set_title(\"Gender\")\n",
    "loan.Is_Married.value_counts(normalize = True, dropna = False).plot(kind=\"bar\", ax = axes[4]).set_title(\"Is_Married\")\n",
    "loan.No_of_Dependents.value_counts(normalize = True, dropna = False).plot(kind=\"bar\", ax = axes[5]).set_title(\"No_of_Dependents\")\n",
    "loan.IS_Self_Employed.value_counts(normalize = True, dropna = False).plot(kind=\"bar\", ax = axes[6]).set_title(\"IS_Self_Employed\")"
   ]
  },
  {
   "cell_type": "markdown",
   "metadata": {},
   "source": [
    "## For now, removing all missing values to simplify further process! "
   ]
  },
  {
   "cell_type": "code",
   "execution_count": 11,
   "metadata": {},
   "outputs": [],
   "source": [
    "# loan.dropna(inplace = True)\n",
    "# loan.isnull().sum()"
   ]
  },
  {
   "cell_type": "code",
   "execution_count": 12,
   "metadata": {},
   "outputs": [
    {
     "data": {
      "text/plain": [
       "(614, 12)"
      ]
     },
     "execution_count": 12,
     "metadata": {},
     "output_type": "execute_result"
    }
   ],
   "source": [
    "loan.shape"
   ]
  },
  {
   "cell_type": "code",
   "execution_count": 13,
   "metadata": {},
   "outputs": [
    {
     "data": {
      "text/plain": [
       "array([[<AxesSubplot:title={'center':'Income_of_Applicant'}>,\n",
       "        <AxesSubplot:title={'center':'Income_of_Joint_Applicant'}>],\n",
       "       [<AxesSubplot:title={'center':'Loan_Amount_Requirement'}>,\n",
       "        <AxesSubplot:title={'center':'Loan_Amount_Term'}>],\n",
       "       [<AxesSubplot:title={'center':'Credit_History'}>, <AxesSubplot:>]],\n",
       "      dtype=object)"
      ]
     },
     "execution_count": 13,
     "metadata": {},
     "output_type": "execute_result"
    },
    {
     "data": {
      "image/png": "[encoded data removed]",
      "text/plain": [
       "<Figure size 1080x720 with 6 Axes>"
      ]
     },
     "metadata": {
      "needs_background": "light"
     },
     "output_type": "display_data"
    }
   ],
   "source": [
    "loan.hist(bins = 50, figsize = (15,10))"
   ]
  },
  {
   "cell_type": "code",
   "execution_count": 14,
   "metadata": {},
   "outputs": [
    {
     "data": {
      "text/plain": [
       "<AxesSubplot:>"
      ]
     },
     "execution_count": 14,
     "metadata": {},
     "output_type": "execute_result"
    },
    {
     "data": {
      "image/png": "[encoded data removed]",
      "text/plain": [
       "<Figure size 432x288 with 1 Axes>"
      ]
     },
     "metadata": {
      "needs_background": "light"
     },
     "output_type": "display_data"
    }
   ],
   "source": [
    "# creating \"income cat\" to check distribution\n",
    "loan[\"income_cat\"] = pd.cut(loan[\"Income_of_Applicant\"], bins = [0., 2500., 5000., 7500., 10000., np.inf], labels = [2500, 5000, 7500, 10000, \"10,000+\"], right = False)\n",
    "# (loan[\"income_cat\"].value_counts()/len(loan[\"income_cat\"]))*100\n",
    "loan[\"income_cat\"].sort_values().hist()"
   ]
  },
  {
   "cell_type": "markdown",
   "metadata": {},
   "source": [
    "Checking Loan_Status based on Area_of_Property & Loan_Amount_Requirement"
   ]
  },
  {
   "cell_type": "code",
   "execution_count": 15,
   "metadata": {
    "scrolled": false
   },
   "outputs": [
    {
     "data": {
      "text/plain": [
       "<seaborn.axisgrid.FacetGrid at 0x12650a10348>"
      ]
     },
     "execution_count": 15,
     "metadata": {},
     "output_type": "execute_result"
    },
    {
     "data": {
      "image/png": "[encoded data removed]",
      "text/plain": [
       "<Figure size 716.625x216 with 3 Axes>"
      ]
     },
     "metadata": {
      "needs_background": "light"
     },
     "output_type": "display_data"
    }
   ],
   "source": [
    "sns.FacetGrid(loan, hue = \"Loan_Status\", col = \"Area_of_Property\", height = 3).map(plt.hist, \"Loan_Amount_Requirement\", bins = 5, ec = \"k\").add_legend()"
   ]
  },
  {
   "cell_type": "code",
   "execution_count": 16,
   "metadata": {},
   "outputs": [
    {
     "data": {
      "text/plain": [
       "<seaborn.axisgrid.FacetGrid at 0x12650b4ef08>"
      ]
     },
     "execution_count": 16,
     "metadata": {},
     "output_type": "execute_result"
    },
    {
     "data": {
      "image/png": "[encoded data removed]",
      "text/plain": [
       "<Figure size 500.625x216 with 2 Axes>"
      ]
     },
     "metadata": {
      "needs_background": "light"
     },
     "output_type": "display_data"
    }
   ],
   "source": [
    "sns.FacetGrid(loan, hue = \"Loan_Status\", col = \"Credit_History\", height = 3).map(plt.hist, \"Loan_Amount_Requirement\", ec = \"k\").add_legend()"
   ]
  },
  {
   "cell_type": "markdown",
   "metadata": {},
   "source": [
    "#### Credit_History = 1.0 has strong affect on Loan Status!"
   ]
  },
  {
   "cell_type": "code",
   "execution_count": 17,
   "metadata": {},
   "outputs": [
    {
     "data": {
      "text/plain": [
       "1.0    77.361564\n",
       "0.0    14.495114\n",
       "NaN     8.143322\n",
       "Name: Credit_History, dtype: float64"
      ]
     },
     "execution_count": 17,
     "metadata": {},
     "output_type": "execute_result"
    }
   ],
   "source": [
    "(loan[\"Credit_History\"].value_counts(dropna=False)/len(loan[\"Credit_History\"]))*100"
   ]
  },
  {
   "cell_type": "markdown",
   "metadata": {},
   "source": [
    "### Checking target variable classes"
   ]
  },
  {
   "cell_type": "code",
   "execution_count": 18,
   "metadata": {},
   "outputs": [
    {
     "data": {
      "text/plain": [
       "Y    68.729642\n",
       "N    31.270358\n",
       "Name: Loan_Status, dtype: float64"
      ]
     },
     "execution_count": 18,
     "metadata": {},
     "output_type": "execute_result"
    }
   ],
   "source": [
    "(loan[\"Loan_Status\"].value_counts(dropna=False)/len(loan[\"Loan_Status\"]))*100"
   ]
  },
  {
   "cell_type": "markdown",
   "metadata": {},
   "source": [
    "## Create a test set to prevent data snooping bias!"
   ]
  },
  {
   "cell_type": "code",
   "execution_count": 19,
   "metadata": {},
   "outputs": [],
   "source": [
    "from sklearn.model_selection import StratifiedShuffleSplit"
   ]
  },
  {
   "cell_type": "code",
   "execution_count": 20,
   "metadata": {},
   "outputs": [],
   "source": [
    "split = StratifiedShuffleSplit(n_splits = 1, test_size = 0.2, random_state = 42)"
   ]
  },
  {
   "cell_type": "code",
   "execution_count": 21,
   "metadata": {},
   "outputs": [
    {
     "data": {
      "text/html": [
       "<div>\n",
       "<style scoped>\n",
       "    .dataframe tbody tr th:only-of-type {\n",
       "        vertical-align: middle;\n",
       "    }\n",
       "\n",
       "    .dataframe tbody tr th {\n",
       "        vertical-align: top;\n",
       "    }\n",
       "\n",
       "    .dataframe thead th {\n",
       "        text-align: right;\n",
       "    }\n",
       "</style>\n",
       "<table border=\"1\" class=\"dataframe\">\n",
       "  <thead>\n",
       "    <tr style=\"text-align: right;\">\n",
       "      <th></th>\n",
       "      <th>Income_of_Applicant</th>\n",
       "      <th>Income_of_Joint_Applicant</th>\n",
       "      <th>Loan_Amount_Requirement</th>\n",
       "      <th>Loan_Amount_Term</th>\n",
       "      <th>Credit_History</th>\n",
       "      <th>Gender</th>\n",
       "      <th>Is_Married</th>\n",
       "      <th>No_of_Dependents</th>\n",
       "      <th>Level_of_Education</th>\n",
       "      <th>IS_Self_Employed</th>\n",
       "      <th>Area_of_Property</th>\n",
       "      <th>Loan_Status</th>\n",
       "      <th>income_cat</th>\n",
       "    </tr>\n",
       "  </thead>\n",
       "  <tbody>\n",
       "    <tr>\n",
       "      <th>154</th>\n",
       "      <td>3254</td>\n",
       "      <td>0.0</td>\n",
       "      <td>50.0</td>\n",
       "      <td>360.0</td>\n",
       "      <td>1.0</td>\n",
       "      <td>Male</td>\n",
       "      <td>No</td>\n",
       "      <td>0</td>\n",
       "      <td>Graduate</td>\n",
       "      <td>No</td>\n",
       "      <td>Urban</td>\n",
       "      <td>Y</td>\n",
       "      <td>5000</td>\n",
       "    </tr>\n",
       "    <tr>\n",
       "      <th>239</th>\n",
       "      <td>3315</td>\n",
       "      <td>0.0</td>\n",
       "      <td>96.0</td>\n",
       "      <td>360.0</td>\n",
       "      <td>1.0</td>\n",
       "      <td>Male</td>\n",
       "      <td>Yes</td>\n",
       "      <td>1</td>\n",
       "      <td>Graduate</td>\n",
       "      <td>No</td>\n",
       "      <td>Semiurban</td>\n",
       "      <td>Y</td>\n",
       "      <td>5000</td>\n",
       "    </tr>\n",
       "    <tr>\n",
       "      <th>448</th>\n",
       "      <td>3340</td>\n",
       "      <td>1710.0</td>\n",
       "      <td>150.0</td>\n",
       "      <td>360.0</td>\n",
       "      <td>0.0</td>\n",
       "      <td>Male</td>\n",
       "      <td>Yes</td>\n",
       "      <td>2</td>\n",
       "      <td>Graduate</td>\n",
       "      <td>No</td>\n",
       "      <td>Rural</td>\n",
       "      <td>N</td>\n",
       "      <td>5000</td>\n",
       "    </tr>\n",
       "    <tr>\n",
       "      <th>471</th>\n",
       "      <td>2653</td>\n",
       "      <td>1500.0</td>\n",
       "      <td>113.0</td>\n",
       "      <td>180.0</td>\n",
       "      <td>0.0</td>\n",
       "      <td>Male</td>\n",
       "      <td>Yes</td>\n",
       "      <td>1</td>\n",
       "      <td>Not Graduate</td>\n",
       "      <td>No</td>\n",
       "      <td>Rural</td>\n",
       "      <td>N</td>\n",
       "      <td>5000</td>\n",
       "    </tr>\n",
       "    <tr>\n",
       "      <th>273</th>\n",
       "      <td>2620</td>\n",
       "      <td>2223.0</td>\n",
       "      <td>150.0</td>\n",
       "      <td>360.0</td>\n",
       "      <td>1.0</td>\n",
       "      <td>Male</td>\n",
       "      <td>Yes</td>\n",
       "      <td>0</td>\n",
       "      <td>Graduate</td>\n",
       "      <td>No</td>\n",
       "      <td>Semiurban</td>\n",
       "      <td>Y</td>\n",
       "      <td>5000</td>\n",
       "    </tr>\n",
       "  </tbody>\n",
       "</table>\n",
       "</div>"
      ],
      "text/plain": [
       "     Income_of_Applicant  Income_of_Joint_Applicant  Loan_Amount_Requirement  \\\n",
       "154                 3254                        0.0                     50.0   \n",
       "239                 3315                        0.0                     96.0   \n",
       "448                 3340                     1710.0                    150.0   \n",
       "471                 2653                     1500.0                    113.0   \n",
       "273                 2620                     2223.0                    150.0   \n",
       "\n",
       "     Loan_Amount_Term  Credit_History Gender Is_Married No_of_Dependents  \\\n",
       "154             360.0             1.0   Male         No                0   \n",
       "239             360.0             1.0   Male        Yes                1   \n",
       "448             360.0             0.0   Male        Yes                2   \n",
       "471             180.0             0.0   Male        Yes                1   \n",
       "273             360.0             1.0   Male        Yes                0   \n",
       "\n",
       "    Level_of_Education IS_Self_Employed Area_of_Property Loan_Status  \\\n",
       "154           Graduate               No            Urban           Y   \n",
       "239           Graduate               No        Semiurban           Y   \n",
       "448           Graduate               No            Rural           N   \n",
       "471       Not Graduate               No            Rural           N   \n",
       "273           Graduate               No        Semiurban           Y   \n",
       "\n",
       "    income_cat  \n",
       "154       5000  \n",
       "239       5000  \n",
       "448       5000  \n",
       "471       5000  \n",
       "273       5000  "
      ]
     },
     "execution_count": 21,
     "metadata": {},
     "output_type": "execute_result"
    }
   ],
   "source": [
    "# Delete this\n",
    "for train_index_s, test_index_s in split.split(loan, loan[\"Loan_Status\"]):\n",
    "    strat_train_set = loan.iloc[train_index_s]\n",
    "    strat_test_set = loan.iloc[test_index_s]\n",
    "\n",
    "strat_train_set.head()"
   ]
  },
  {
   "cell_type": "code",
   "execution_count": 22,
   "metadata": {},
   "outputs": [],
   "source": [
    "# for train_index_s, test_index_s in split.split(loan, loan[\"Credit_History\"]):\n",
    "#     strat_train_set = loan.iloc[train_index_s]\n",
    "#     strat_test_set = loan.iloc[test_index_s]\n",
    "\n",
    "# strat_train_set.head()"
   ]
  },
  {
   "cell_type": "code",
   "execution_count": 23,
   "metadata": {},
   "outputs": [],
   "source": [
    "# This is simple random sampling.\n",
    "# np.random.seed(42)\n",
    "# shuffles = np.random.permutation(len(loan))\n",
    "\n",
    "# test_ratio = 0.8\n",
    "# train_set_size = int(len(loan) * test_ratio)\n",
    "\n",
    "# train_index = shuffles[:train_set_size]\n",
    "# test_index = shuffles[train_set_size:]\n",
    "\n",
    "# train_set = loan.iloc[train_index]\n",
    "# test_set = loan.iloc[test_index]"
   ]
  },
  {
   "cell_type": "code",
   "execution_count": 24,
   "metadata": {},
   "outputs": [
    {
     "data": {
      "text/plain": [
       "Y    68.635438\n",
       "N    31.364562\n",
       "Name: Loan_Status, dtype: float64"
      ]
     },
     "execution_count": 24,
     "metadata": {},
     "output_type": "execute_result"
    }
   ],
   "source": [
    "(strat_train_set[\"Loan_Status\"].value_counts()/len(strat_train_set[\"Loan_Status\"]))*100"
   ]
  },
  {
   "cell_type": "code",
   "execution_count": 25,
   "metadata": {
    "scrolled": true
   },
   "outputs": [
    {
     "data": {
      "text/plain": [
       "1.0    77.596741\n",
       "0.0    13.645621\n",
       "Name: Credit_History, dtype: float64"
      ]
     },
     "execution_count": 25,
     "metadata": {},
     "output_type": "execute_result"
    }
   ],
   "source": [
    "(strat_train_set[\"Credit_History\"].value_counts()/len(strat_train_set[\"Credit_History\"]))*100"
   ]
  },
  {
   "cell_type": "markdown",
   "metadata": {},
   "source": [
    "Train set now contains similar distribution in terms of the \"Credit_History\" column!"
   ]
  },
  {
   "cell_type": "code",
   "execution_count": 26,
   "metadata": {},
   "outputs": [
    {
     "data": {
      "text/plain": [
       "<AxesSubplot:>"
      ]
     },
     "execution_count": 26,
     "metadata": {},
     "output_type": "execute_result"
    },
    {
     "data": {
      "image/png": "[encoded data removed]",
      "text/plain": [
       "<Figure size 432x288 with 1 Axes>"
      ]
     },
     "metadata": {
      "needs_background": "light"
     },
     "output_type": "display_data"
    }
   ],
   "source": [
    "strat_train_set[\"income_cat\"].sort_values().hist()\n",
    "# All categories are present"
   ]
  },
  {
   "cell_type": "code",
   "execution_count": 27,
   "metadata": {},
   "outputs": [],
   "source": [
    "# Deleting the \"income cat\" column from both train & test sets\n",
    "strat_train_set = strat_train_set.drop([\"income_cat\"], axis = 1)\n",
    "strat_test_set = strat_test_set.drop([\"income_cat\"], axis = 1)"
   ]
  },
  {
   "cell_type": "code",
   "execution_count": 28,
   "metadata": {},
   "outputs": [
    {
     "data": {
      "text/plain": [
       "Income_of_Applicant          1.000000\n",
       "Loan_Amount_Requirement      0.602661\n",
       "Credit_History              -0.045082\n",
       "Loan_Amount_Term            -0.045426\n",
       "Income_of_Joint_Applicant   -0.130215\n",
       "Name: Income_of_Applicant, dtype: float64"
      ]
     },
     "execution_count": 28,
     "metadata": {},
     "output_type": "execute_result"
    }
   ],
   "source": [
    "strat_train_set.corr()[\"Income_of_Applicant\"].sort_values(ascending = False)"
   ]
  },
  {
   "cell_type": "code",
   "execution_count": 29,
   "metadata": {},
   "outputs": [
    {
     "data": {
      "text/plain": [
       "array([[<AxesSubplot:xlabel='Income_of_Applicant', ylabel='Income_of_Applicant'>,\n",
       "        <AxesSubplot:xlabel='Income_of_Joint_Applicant', ylabel='Income_of_Applicant'>,\n",
       "        <AxesSubplot:xlabel='Loan_Amount_Requirement', ylabel='Income_of_Applicant'>,\n",
       "        <AxesSubplot:xlabel='Loan_Amount_Term', ylabel='Income_of_Applicant'>,\n",
       "        <AxesSubplot:xlabel='Credit_History', ylabel='Income_of_Applicant'>],\n",
       "       [<AxesSubplot:xlabel='Income_of_Applicant', ylabel='Income_of_Joint_Applicant'>,\n",
       "        <AxesSubplot:xlabel='Income_of_Joint_Applicant', ylabel='Income_of_Joint_Applicant'>,\n",
       "        <AxesSubplot:xlabel='Loan_Amount_Requirement', ylabel='Income_of_Joint_Applicant'>,\n",
       "        <AxesSubplot:xlabel='Loan_Amount_Term', ylabel='Income_of_Joint_Applicant'>,\n",
       "        <AxesSubplot:xlabel='Credit_History', ylabel='Income_of_Joint_Applicant'>],\n",
       "       [<AxesSubplot:xlabel='Income_of_Applicant', ylabel='Loan_Amount_Requirement'>,\n",
       "        <AxesSubplot:xlabel='Income_of_Joint_Applicant', ylabel='Loan_Amount_Requirement'>,\n",
       "        <AxesSubplot:xlabel='Loan_Amount_Requirement', ylabel='Loan_Amount_Requirement'>,\n",
       "        <AxesSubplot:xlabel='Loan_Amount_Term', ylabel='Loan_Amount_Requirement'>,\n",
       "        <AxesSubplot:xlabel='Credit_History', ylabel='Loan_Amount_Requirement'>],\n",
       "       [<AxesSubplot:xlabel='Income_of_Applicant', ylabel='Loan_Amount_Term'>,\n",
       "        <AxesSubplot:xlabel='Income_of_Joint_Applicant', ylabel='Loan_Amount_Term'>,\n",
       "        <AxesSubplot:xlabel='Loan_Amount_Requirement', ylabel='Loan_Amount_Term'>,\n",
       "        <AxesSubplot:xlabel='Loan_Amount_Term', ylabel='Loan_Amount_Term'>,\n",
       "        <AxesSubplot:xlabel='Credit_History', ylabel='Loan_Amount_Term'>],\n",
       "       [<AxesSubplot:xlabel='Income_of_Applicant', ylabel='Credit_History'>,\n",
       "        <AxesSubplot:xlabel='Income_of_Joint_Applicant', ylabel='Credit_History'>,\n",
       "        <AxesSubplot:xlabel='Loan_Amount_Requirement', ylabel='Credit_History'>,\n",
       "        <AxesSubplot:xlabel='Loan_Amount_Term', ylabel='Credit_History'>,\n",
       "        <AxesSubplot:xlabel='Credit_History', ylabel='Credit_History'>]],\n",
       "      dtype=object)"
      ]
     },
     "execution_count": 29,
     "metadata": {},
     "output_type": "execute_result"
    },
    {
     "data": {
      "image/png": "[encoded data removed]",
      "text/plain": [
       "<Figure size 1080x1080 with 25 Axes>"
      ]
     },
     "metadata": {
      "needs_background": "light"
     },
     "output_type": "display_data"
    }
   ],
   "source": [
    "pd.plotting.scatter_matrix(strat_train_set, figsize = (15,15))"
   ]
  },
  {
   "cell_type": "code",
   "execution_count": 30,
   "metadata": {},
   "outputs": [
    {
     "data": {
      "text/plain": [
       "<AxesSubplot:xlabel='Income_of_Applicant', ylabel='Loan_Amount_Requirement'>"
      ]
     },
     "execution_count": 30,
     "metadata": {},
     "output_type": "execute_result"
    },
    {
     "data": {
      "image/png": "[encoded data removed]",
      "text/plain": [
       "<Figure size 1080x432 with 1 Axes>"
      ]
     },
     "metadata": {
      "needs_background": "light"
     },
     "output_type": "display_data"
    }
   ],
   "source": [
    "strat_train_set.plot(kind = \"scatter\", x = \"Income_of_Applicant\", y = \"Loan_Amount_Requirement\", alpha = 0.75, figsize = (15,6))"
   ]
  },
  {
   "cell_type": "markdown",
   "metadata": {},
   "source": [
    "we see correlation between the two independent variables - \"Income_of_Applicant\" & \"Loan_Amount_Requirement\" which we can explore later!"
   ]
  },
  {
   "cell_type": "markdown",
   "metadata": {},
   "source": [
    "### Now  we can start building our model!"
   ]
  },
  {
   "cell_type": "markdown",
   "metadata": {},
   "source": [
    "### Starting with creating new training set!"
   ]
  },
  {
   "cell_type": "code",
   "execution_count": 31,
   "metadata": {},
   "outputs": [],
   "source": [
    "strat_train_set.dropna(inplace=True)\n",
    "strat_test_set.dropna(inplace=True)"
   ]
  },
  {
   "cell_type": "code",
   "execution_count": 32,
   "metadata": {},
   "outputs": [],
   "source": [
    "train_loan_x = strat_train_set.drop(\"Loan_Status\", axis = 1)\n",
    "train_loan_y = strat_train_set[\"Loan_Status\"]"
   ]
  },
  {
   "cell_type": "code",
   "execution_count": 33,
   "metadata": {},
   "outputs": [],
   "source": [
    "test_loan_x = strat_test_set.drop(\"Loan_Status\", axis = 1)\n",
    "test_loan_y = strat_test_set[\"Loan_Status\"]"
   ]
  },
  {
   "cell_type": "code",
   "execution_count": 34,
   "metadata": {},
   "outputs": [
    {
     "data": {
      "text/html": [
       "<div>\n",
       "<style scoped>\n",
       "    .dataframe tbody tr th:only-of-type {\n",
       "        vertical-align: middle;\n",
       "    }\n",
       "\n",
       "    .dataframe tbody tr th {\n",
       "        vertical-align: top;\n",
       "    }\n",
       "\n",
       "    .dataframe thead th {\n",
       "        text-align: right;\n",
       "    }\n",
       "</style>\n",
       "<table border=\"1\" class=\"dataframe\">\n",
       "  <thead>\n",
       "    <tr style=\"text-align: right;\">\n",
       "      <th></th>\n",
       "      <th>Income_of_Applicant</th>\n",
       "      <th>Income_of_Joint_Applicant</th>\n",
       "      <th>Loan_Amount_Requirement</th>\n",
       "      <th>Loan_Amount_Term</th>\n",
       "      <th>Credit_History</th>\n",
       "      <th>Gender</th>\n",
       "      <th>Is_Married</th>\n",
       "      <th>No_of_Dependents</th>\n",
       "      <th>Level_of_Education</th>\n",
       "      <th>IS_Self_Employed</th>\n",
       "      <th>Area_of_Property</th>\n",
       "    </tr>\n",
       "  </thead>\n",
       "  <tbody>\n",
       "    <tr>\n",
       "      <th>154</th>\n",
       "      <td>3254</td>\n",
       "      <td>0.0</td>\n",
       "      <td>50.0</td>\n",
       "      <td>360.0</td>\n",
       "      <td>1.0</td>\n",
       "      <td>Male</td>\n",
       "      <td>No</td>\n",
       "      <td>0</td>\n",
       "      <td>Graduate</td>\n",
       "      <td>No</td>\n",
       "      <td>Urban</td>\n",
       "    </tr>\n",
       "    <tr>\n",
       "      <th>239</th>\n",
       "      <td>3315</td>\n",
       "      <td>0.0</td>\n",
       "      <td>96.0</td>\n",
       "      <td>360.0</td>\n",
       "      <td>1.0</td>\n",
       "      <td>Male</td>\n",
       "      <td>Yes</td>\n",
       "      <td>1</td>\n",
       "      <td>Graduate</td>\n",
       "      <td>No</td>\n",
       "      <td>Semiurban</td>\n",
       "    </tr>\n",
       "    <tr>\n",
       "      <th>448</th>\n",
       "      <td>3340</td>\n",
       "      <td>1710.0</td>\n",
       "      <td>150.0</td>\n",
       "      <td>360.0</td>\n",
       "      <td>0.0</td>\n",
       "      <td>Male</td>\n",
       "      <td>Yes</td>\n",
       "      <td>2</td>\n",
       "      <td>Graduate</td>\n",
       "      <td>No</td>\n",
       "      <td>Rural</td>\n",
       "    </tr>\n",
       "    <tr>\n",
       "      <th>471</th>\n",
       "      <td>2653</td>\n",
       "      <td>1500.0</td>\n",
       "      <td>113.0</td>\n",
       "      <td>180.0</td>\n",
       "      <td>0.0</td>\n",
       "      <td>Male</td>\n",
       "      <td>Yes</td>\n",
       "      <td>1</td>\n",
       "      <td>Not Graduate</td>\n",
       "      <td>No</td>\n",
       "      <td>Rural</td>\n",
       "    </tr>\n",
       "    <tr>\n",
       "      <th>273</th>\n",
       "      <td>2620</td>\n",
       "      <td>2223.0</td>\n",
       "      <td>150.0</td>\n",
       "      <td>360.0</td>\n",
       "      <td>1.0</td>\n",
       "      <td>Male</td>\n",
       "      <td>Yes</td>\n",
       "      <td>0</td>\n",
       "      <td>Graduate</td>\n",
       "      <td>No</td>\n",
       "      <td>Semiurban</td>\n",
       "    </tr>\n",
       "  </tbody>\n",
       "</table>\n",
       "</div>"
      ],
      "text/plain": [
       "     Income_of_Applicant  Income_of_Joint_Applicant  Loan_Amount_Requirement  \\\n",
       "154                 3254                        0.0                     50.0   \n",
       "239                 3315                        0.0                     96.0   \n",
       "448                 3340                     1710.0                    150.0   \n",
       "471                 2653                     1500.0                    113.0   \n",
       "273                 2620                     2223.0                    150.0   \n",
       "\n",
       "     Loan_Amount_Term  Credit_History Gender Is_Married No_of_Dependents  \\\n",
       "154             360.0             1.0   Male         No                0   \n",
       "239             360.0             1.0   Male        Yes                1   \n",
       "448             360.0             0.0   Male        Yes                2   \n",
       "471             180.0             0.0   Male        Yes                1   \n",
       "273             360.0             1.0   Male        Yes                0   \n",
       "\n",
       "    Level_of_Education IS_Self_Employed Area_of_Property  \n",
       "154           Graduate               No            Urban  \n",
       "239           Graduate               No        Semiurban  \n",
       "448           Graduate               No            Rural  \n",
       "471       Not Graduate               No            Rural  \n",
       "273           Graduate               No        Semiurban  "
      ]
     },
     "execution_count": 34,
     "metadata": {},
     "output_type": "execute_result"
    }
   ],
   "source": [
    "train_loan_x.head()"
   ]
  },
  {
   "cell_type": "code",
   "execution_count": 35,
   "metadata": {},
   "outputs": [
    {
     "data": {
      "text/plain": [
       "154    Y\n",
       "239    Y\n",
       "448    N\n",
       "471    N\n",
       "273    Y\n",
       "Name: Loan_Status, dtype: object"
      ]
     },
     "execution_count": 35,
     "metadata": {},
     "output_type": "execute_result"
    }
   ],
   "source": [
    "train_loan_y.head()"
   ]
  },
  {
   "cell_type": "code",
   "execution_count": 36,
   "metadata": {},
   "outputs": [
    {
     "name": "stdout",
     "output_type": "stream",
     "text": [
      "<class 'pandas.core.frame.DataFrame'>\n",
      "Int64Index: 381 entries, 154 to 354\n",
      "Data columns (total 11 columns):\n",
      " #   Column                     Non-Null Count  Dtype  \n",
      "---  ------                     --------------  -----  \n",
      " 0   Income_of_Applicant        381 non-null    int64  \n",
      " 1   Income_of_Joint_Applicant  381 non-null    float64\n",
      " 2   Loan_Amount_Requirement    381 non-null    float64\n",
      " 3   Loan_Amount_Term           381 non-null    float64\n",
      " 4   Credit_History             381 non-null    float64\n",
      " 5   Gender                     381 non-null    object \n",
      " 6   Is_Married                 381 non-null    object \n",
      " 7   No_of_Dependents           381 non-null    object \n",
      " 8   Level_of_Education         381 non-null    object \n",
      " 9   IS_Self_Employed           381 non-null    object \n",
      " 10  Area_of_Property           381 non-null    object \n",
      "dtypes: float64(4), int64(1), object(6)\n",
      "memory usage: 35.7+ KB\n"
     ]
    }
   ],
   "source": [
    "train_loan_x.info()"
   ]
  },
  {
   "cell_type": "code",
   "execution_count": 37,
   "metadata": {},
   "outputs": [
    {
     "name": "stdout",
     "output_type": "stream",
     "text": [
      "Gender -> ['Male' 'Female']\n",
      "Is_Married -> ['No' 'Yes']\n",
      "No_of_Dependents -> ['0' '1' '2' '3+']\n",
      "Level_of_Education -> ['Graduate' 'Not Graduate']\n",
      "IS_Self_Employed -> ['No' 'Yes']\n",
      "Area_of_Property -> ['Urban' 'Semiurban' 'Rural']\n"
     ]
    }
   ],
   "source": [
    "for i in train_loan_x.columns:\n",
    "    if train_loan_x[i].dtypes == \"O\":\n",
    "        print(i + \" -> \" + str(train_loan_x[i].unique()))"
   ]
  },
  {
   "cell_type": "markdown",
   "metadata": {},
   "source": [
    "As the number of categories is low, we can use Label encoding instead of One-Hot encoding."
   ]
  },
  {
   "cell_type": "code",
   "execution_count": 38,
   "metadata": {},
   "outputs": [],
   "source": [
    "def binarize_1hot(dataset, to_binarize, to_one_hot):\n",
    "    for i in to_binarize:\n",
    "        dataset[i] = LabelBinarizer().fit_transform(dataset[i])\n",
    "    dataset = pd.get_dummies(data = dataset, columns = to_one_hot)\n",
    "    return dataset"
   ]
  },
  {
   "cell_type": "code",
   "execution_count": 39,
   "metadata": {},
   "outputs": [],
   "source": [
    "# label encoding & one-hot encoding train_X data\n",
    "\n",
    "to_binarize = [\"Gender\", \"Is_Married\", \"Level_of_Education\", \"IS_Self_Employed\"]\n",
    "to_one_hot = [\"No_of_Dependents\", \"Area_of_Property\"]\n",
    "\n",
    "train_x_encoded = binarize_1hot(train_loan_x, to_binarize, to_one_hot)\n",
    "test_x_encoded = binarize_1hot(test_loan_x, to_binarize, to_one_hot)"
   ]
  },
  {
   "cell_type": "code",
   "execution_count": 40,
   "metadata": {},
   "outputs": [],
   "source": [
    "# from sklearn.preprocessing import LabelBinarizer\n",
    "# to_binarize = [\"Gender\", \"Is_Married\", \"Level_of_Education\", \"IS_Self_Employed\"]\n",
    "# to_one_hot = [\"No_of_Dependents\", \"Area_of_Property\"]\n",
    "# for i in to_binarize:\n",
    "#     train_loan_x[i] = LabelBinarizer().fit_transform(train_loan_x[i])\n",
    "# train_loan_x = pd.get_dummies(data = train_loan_x, columns = to_one_hot)"
   ]
  },
  {
   "cell_type": "code",
   "execution_count": 41,
   "metadata": {},
   "outputs": [],
   "source": [
    "# Use this below instead of get_dummies also\n",
    "# from sklearn.preprocessing import OneHotEncoder\n",
    "# one_enc = OneHotEncoder()\n",
    "# train_loan_x_one_hot = one_enc.fit_transform(train_loan_x[[\"No_of_Dependents\"]])\n",
    "# train_loan_x_one_hot = pd.DataFrame(train_loan_x_one_hot.toarray())\n",
    "# print(train_loan_x_one_hot.head())\n",
    "# print(one_enc.categories_)"
   ]
  },
  {
   "cell_type": "code",
   "execution_count": 42,
   "metadata": {},
   "outputs": [
    {
     "name": "stdout",
     "output_type": "stream",
     "text": [
      "Gender -> [1 0]\n",
      "Is_Married -> [0 1]\n",
      "Level_of_Education -> [0 1]\n",
      "IS_Self_Employed -> [0 1]\n",
      "No_of_Dependents_0 -> [1 0]\n",
      "No_of_Dependents_1 -> [0 1]\n",
      "No_of_Dependents_2 -> [0 1]\n",
      "No_of_Dependents_3+ -> [0 1]\n",
      "Area_of_Property_Rural -> [0 1]\n",
      "Area_of_Property_Semiurban -> [0 1]\n",
      "Area_of_Property_Urban -> [1 0]\n"
     ]
    }
   ],
   "source": [
    "for i in train_x_encoded.columns:\n",
    "    if train_x_encoded[i].dtypes == \"int\" or train_x_encoded[i].dtypes == \"uint8\":\n",
    "        print(i + \" -> \" + str(train_x_encoded[i].unique()))"
   ]
  },
  {
   "cell_type": "code",
   "execution_count": 43,
   "metadata": {},
   "outputs": [
    {
     "data": {
      "text/html": [
       "<div>\n",
       "<style scoped>\n",
       "    .dataframe tbody tr th:only-of-type {\n",
       "        vertical-align: middle;\n",
       "    }\n",
       "\n",
       "    .dataframe tbody tr th {\n",
       "        vertical-align: top;\n",
       "    }\n",
       "\n",
       "    .dataframe thead th {\n",
       "        text-align: right;\n",
       "    }\n",
       "</style>\n",
       "<table border=\"1\" class=\"dataframe\">\n",
       "  <thead>\n",
       "    <tr style=\"text-align: right;\">\n",
       "      <th></th>\n",
       "      <th>Income_of_Applicant</th>\n",
       "      <th>Income_of_Joint_Applicant</th>\n",
       "      <th>Loan_Amount_Requirement</th>\n",
       "      <th>Loan_Amount_Term</th>\n",
       "      <th>Credit_History</th>\n",
       "      <th>Gender</th>\n",
       "      <th>Is_Married</th>\n",
       "      <th>Level_of_Education</th>\n",
       "      <th>IS_Self_Employed</th>\n",
       "      <th>No_of_Dependents_0</th>\n",
       "      <th>No_of_Dependents_1</th>\n",
       "      <th>No_of_Dependents_2</th>\n",
       "      <th>No_of_Dependents_3+</th>\n",
       "      <th>Area_of_Property_Rural</th>\n",
       "      <th>Area_of_Property_Semiurban</th>\n",
       "      <th>Area_of_Property_Urban</th>\n",
       "    </tr>\n",
       "  </thead>\n",
       "  <tbody>\n",
       "    <tr>\n",
       "      <th>154</th>\n",
       "      <td>3254</td>\n",
       "      <td>0.0</td>\n",
       "      <td>50.0</td>\n",
       "      <td>360.0</td>\n",
       "      <td>1.0</td>\n",
       "      <td>1</td>\n",
       "      <td>0</td>\n",
       "      <td>0</td>\n",
       "      <td>0</td>\n",
       "      <td>1</td>\n",
       "      <td>0</td>\n",
       "      <td>0</td>\n",
       "      <td>0</td>\n",
       "      <td>0</td>\n",
       "      <td>0</td>\n",
       "      <td>1</td>\n",
       "    </tr>\n",
       "    <tr>\n",
       "      <th>239</th>\n",
       "      <td>3315</td>\n",
       "      <td>0.0</td>\n",
       "      <td>96.0</td>\n",
       "      <td>360.0</td>\n",
       "      <td>1.0</td>\n",
       "      <td>1</td>\n",
       "      <td>1</td>\n",
       "      <td>0</td>\n",
       "      <td>0</td>\n",
       "      <td>0</td>\n",
       "      <td>1</td>\n",
       "      <td>0</td>\n",
       "      <td>0</td>\n",
       "      <td>0</td>\n",
       "      <td>1</td>\n",
       "      <td>0</td>\n",
       "    </tr>\n",
       "    <tr>\n",
       "      <th>448</th>\n",
       "      <td>3340</td>\n",
       "      <td>1710.0</td>\n",
       "      <td>150.0</td>\n",
       "      <td>360.0</td>\n",
       "      <td>0.0</td>\n",
       "      <td>1</td>\n",
       "      <td>1</td>\n",
       "      <td>0</td>\n",
       "      <td>0</td>\n",
       "      <td>0</td>\n",
       "      <td>0</td>\n",
       "      <td>1</td>\n",
       "      <td>0</td>\n",
       "      <td>1</td>\n",
       "      <td>0</td>\n",
       "      <td>0</td>\n",
       "    </tr>\n",
       "    <tr>\n",
       "      <th>471</th>\n",
       "      <td>2653</td>\n",
       "      <td>1500.0</td>\n",
       "      <td>113.0</td>\n",
       "      <td>180.0</td>\n",
       "      <td>0.0</td>\n",
       "      <td>1</td>\n",
       "      <td>1</td>\n",
       "      <td>1</td>\n",
       "      <td>0</td>\n",
       "      <td>0</td>\n",
       "      <td>1</td>\n",
       "      <td>0</td>\n",
       "      <td>0</td>\n",
       "      <td>1</td>\n",
       "      <td>0</td>\n",
       "      <td>0</td>\n",
       "    </tr>\n",
       "    <tr>\n",
       "      <th>273</th>\n",
       "      <td>2620</td>\n",
       "      <td>2223.0</td>\n",
       "      <td>150.0</td>\n",
       "      <td>360.0</td>\n",
       "      <td>1.0</td>\n",
       "      <td>1</td>\n",
       "      <td>1</td>\n",
       "      <td>0</td>\n",
       "      <td>0</td>\n",
       "      <td>1</td>\n",
       "      <td>0</td>\n",
       "      <td>0</td>\n",
       "      <td>0</td>\n",
       "      <td>0</td>\n",
       "      <td>1</td>\n",
       "      <td>0</td>\n",
       "    </tr>\n",
       "  </tbody>\n",
       "</table>\n",
       "</div>"
      ],
      "text/plain": [
       "     Income_of_Applicant  Income_of_Joint_Applicant  Loan_Amount_Requirement  \\\n",
       "154                 3254                        0.0                     50.0   \n",
       "239                 3315                        0.0                     96.0   \n",
       "448                 3340                     1710.0                    150.0   \n",
       "471                 2653                     1500.0                    113.0   \n",
       "273                 2620                     2223.0                    150.0   \n",
       "\n",
       "     Loan_Amount_Term  Credit_History  Gender  Is_Married  Level_of_Education  \\\n",
       "154             360.0             1.0       1           0                   0   \n",
       "239             360.0             1.0       1           1                   0   \n",
       "448             360.0             0.0       1           1                   0   \n",
       "471             180.0             0.0       1           1                   1   \n",
       "273             360.0             1.0       1           1                   0   \n",
       "\n",
       "     IS_Self_Employed  No_of_Dependents_0  No_of_Dependents_1  \\\n",
       "154                 0                   1                   0   \n",
       "239                 0                   0                   1   \n",
       "448                 0                   0                   0   \n",
       "471                 0                   0                   1   \n",
       "273                 0                   1                   0   \n",
       "\n",
       "     No_of_Dependents_2  No_of_Dependents_3+  Area_of_Property_Rural  \\\n",
       "154                   0                    0                       0   \n",
       "239                   0                    0                       0   \n",
       "448                   1                    0                       1   \n",
       "471                   0                    0                       1   \n",
       "273                   0                    0                       0   \n",
       "\n",
       "     Area_of_Property_Semiurban  Area_of_Property_Urban  \n",
       "154                           0                       1  \n",
       "239                           1                       0  \n",
       "448                           0                       0  \n",
       "471                           0                       0  \n",
       "273                           1                       0  "
      ]
     },
     "execution_count": 43,
     "metadata": {},
     "output_type": "execute_result"
    }
   ],
   "source": [
    "train_x_encoded.head()"
   ]
  },
  {
   "cell_type": "code",
   "execution_count": 44,
   "metadata": {},
   "outputs": [],
   "source": [
    "# Min-Max Scaler function\n",
    "def mm_scaler(dataset):\n",
    "    mmscaler = MinMaxScaler()\n",
    "    data_scaled = mmscaler.fit_transform(dataset)\n",
    "    return data_scaled\n",
    "\n",
    "train_x_encoded_scaled = mm_scaler(train_x_encoded)\n",
    "test_x_encoded_scaled = mm_scaler(test_x_encoded)"
   ]
  },
  {
   "cell_type": "code",
   "execution_count": 45,
   "metadata": {},
   "outputs": [],
   "source": [
    "# label encoding\n",
    "\n",
    "def label_encode(dataset):\n",
    "    label_enc = LabelBinarizer()\n",
    "    dataset_encoded = label_enc.fit_transform(dataset)\n",
    "    return dataset_encoded\n",
    "\n",
    "train_y_encoded_scaled = label_encode(train_loan_y)\n",
    "test_y_encoded_scaled = label_encode(test_loan_y)"
   ]
  },
  {
   "cell_type": "code",
   "execution_count": 46,
   "metadata": {},
   "outputs": [],
   "source": [
    "# # Min-Max Scaling train_X data\n",
    "\n",
    "# mm_scaler = MinMaxScaler()\n",
    "# train_x_encoded_scaled = mm_scaler.fit_transform(train_x_encoded)\n",
    "# train_x_encoded_scaled"
   ]
  },
  {
   "cell_type": "code",
   "execution_count": 47,
   "metadata": {},
   "outputs": [],
   "source": [
    "# # label encoding train_y data\n",
    "# label_bin_y = LabelBinarizer()\n",
    "# train_loan_y_encoded = label_bin_y.fit_transform(train_loan_y)\n",
    "# train_loan_y_encoded.shape"
   ]
  },
  {
   "cell_type": "code",
   "execution_count": 48,
   "metadata": {},
   "outputs": [],
   "source": [
    "# # Min-Max Scaling train_y data\n",
    "# mm_scaler = MinMaxScaler()\n",
    "# train_y_encoded_scaled = mm_scaler.fit_transform(train_loan_y_encoded)\n",
    "# train_y_encoded_scaled.shape"
   ]
  },
  {
   "cell_type": "code",
   "execution_count": 49,
   "metadata": {},
   "outputs": [],
   "source": [
    "# # label encoding & one-hot encoding test_x data\n",
    "\n",
    "# to_binarize = [\"Gender\", \"Is_Married\", \"Level_of_Education\", \"IS_Self_Employed\"]\n",
    "# to_one_hot = [\"No_of_Dependents\", \"Area_of_Property\"]\n",
    "\n",
    "# test_x_encoded = binarize_1hot(test_loan_x, to_binarize, to_one_hot)\n",
    "\n",
    "# for i in test_x_encoded.columns:\n",
    "#     if test_x_encoded[i].dtypes == \"int\" or test_x_encoded[i].dtypes == \"uint8\":\n",
    "#         print(i + \" -> \" + str(test_x_encoded[i].unique()))"
   ]
  },
  {
   "cell_type": "code",
   "execution_count": 50,
   "metadata": {},
   "outputs": [],
   "source": [
    "# # Min-Max Scaling test_x data\n",
    "# mm_scaler = MinMaxScaler()\n",
    "# test_x_encoded_scaled = mm_scaler.fit_transform(test_x_encoded)\n",
    "# test_x_encoded_scaled"
   ]
  },
  {
   "cell_type": "code",
   "execution_count": 51,
   "metadata": {
    "scrolled": true
   },
   "outputs": [],
   "source": [
    "# # label encoding test_y data\n",
    "# label_bin_y = LabelBinarizer()\n",
    "# test_loan_y_encoded = label_bin_y.fit_transform(test_loan_y)\n",
    "# test_loan_y_encoded.shape"
   ]
  },
  {
   "cell_type": "code",
   "execution_count": 52,
   "metadata": {},
   "outputs": [],
   "source": [
    "# # Min-Max Scaling test_y data\n",
    "# mm_scaler = MinMaxScaler()\n",
    "# test_y_encoded_scaled = mm_scaler.fit_transform(test_loan_y_encoded)\n",
    "# test_y_encoded_scaled.shape"
   ]
  },
  {
   "cell_type": "markdown",
   "metadata": {},
   "source": [
    "#### All data has been transformed.\n",
    "#### Rows with missing values removed.\n",
    "#### Label & one-hot encoding done for data.\n",
    "\n",
    "### We can start with building a model!\n",
    "#### Building a model on the training data."
   ]
  },
  {
   "cell_type": "code",
   "execution_count": 53,
   "metadata": {
    "scrolled": false
   },
   "outputs": [
    {
     "name": "stdout",
     "output_type": "stream",
     "text": [
      "Best: 0.795742 using {'C': 0.5, 'penalty': 'l2', 'solver': 'newton-cg'}\n",
      "0.792960 (0.046640) with: {'C': 10, 'penalty': 'l2', 'solver': 'newton-cg'}\n",
      "0.793012 (0.046681) with: {'C': 10, 'penalty': 'l2', 'solver': 'lbfgs'}\n",
      "0.792961 (0.046693) with: {'C': 10, 'penalty': 'l2', 'solver': 'liblinear'}\n",
      "0.795058 (0.046292) with: {'C': 1.0, 'penalty': 'l2', 'solver': 'newton-cg'}\n",
      "0.795058 (0.046292) with: {'C': 1.0, 'penalty': 'l2', 'solver': 'lbfgs'}\n",
      "0.795009 (0.046229) with: {'C': 1.0, 'penalty': 'l2', 'solver': 'liblinear'}\n",
      "0.795742 (0.046214) with: {'C': 0.5, 'penalty': 'l2', 'solver': 'newton-cg'}\n",
      "0.795742 (0.046214) with: {'C': 0.5, 'penalty': 'l2', 'solver': 'lbfgs'}\n",
      "0.794638 (0.045222) with: {'C': 0.5, 'penalty': 'l2', 'solver': 'liblinear'}\n",
      "0.788754 (0.044421) with: {'C': 0.1, 'penalty': 'l2', 'solver': 'newton-cg'}\n",
      "0.788754 (0.044421) with: {'C': 0.1, 'penalty': 'l2', 'solver': 'lbfgs'}\n",
      "0.786020 (0.042254) with: {'C': 0.1, 'penalty': 'l2', 'solver': 'liblinear'}\n",
      "0.762350 (0.036923) with: {'C': 0.05, 'penalty': 'l2', 'solver': 'newton-cg'}\n",
      "0.762350 (0.036923) with: {'C': 0.05, 'penalty': 'l2', 'solver': 'lbfgs'}\n",
      "0.759565 (0.036285) with: {'C': 0.05, 'penalty': 'l2', 'solver': 'liblinear'}\n",
      "0.690283 (0.010401) with: {'C': 0.01, 'penalty': 'l2', 'solver': 'newton-cg'}\n",
      "0.690283 (0.010401) with: {'C': 0.01, 'penalty': 'l2', 'solver': 'lbfgs'}\n",
      "0.690283 (0.010401) with: {'C': 0.01, 'penalty': 'l2', 'solver': 'liblinear'}\n"
     ]
    },
    {
     "name": "stderr",
     "output_type": "stream",
     "text": [
      "C:\\Users\\mehul\\AppData\\Local\\Programs\\Python\\Python37\\lib\\site-packages\\sklearn\\utils\\validation.py:72: DataConversionWarning: A column-vector y was passed when a 1d array was expected. Please change the shape of y to (n_samples, ), for example using ravel().\n",
      "  return f(**kwargs)\n"
     ]
    }
   ],
   "source": [
    "model = LogisticRegression()\n",
    "solvers = ['newton-cg', 'lbfgs', 'liblinear']\n",
    "penalty = ['l2']\n",
    "c_values = [10, 1.0, 0.5, 0.1, 0.05, 0.01]\n",
    "\n",
    "# define grid search\n",
    "grid = dict(solver=solvers, penalty=penalty, C=c_values)\n",
    "\n",
    "cv = RepeatedStratifiedKFold(n_splits=10, n_repeats=50, random_state=None)\n",
    "\n",
    "grid_search = GridSearchCV(estimator=model, param_grid=grid, n_jobs=-1, cv=cv, scoring='accuracy',error_score=0)\n",
    "\n",
    "grid_result = grid_search.fit(train_x_encoded_scaled, train_y_encoded_scaled)\n",
    "\n",
    "# summarize results\n",
    "print(\"Best: %f using %s\" % (grid_result.best_score_, grid_result.best_params_))\n",
    "\n",
    "means = grid_result.cv_results_['mean_test_score']\n",
    "stds = grid_result.cv_results_['std_test_score']\n",
    "params = grid_result.cv_results_['params']\n",
    "\n",
    "for mean, stdev, param in zip(means, stds, params):\n",
    "    print(\"%f (%f) with: %r\" % (mean, stdev, param))"
   ]
  },
  {
   "cell_type": "code",
   "execution_count": 54,
   "metadata": {
    "scrolled": true
   },
   "outputs": [
    {
     "name": "stderr",
     "output_type": "stream",
     "text": [
      "C:\\Users\\mehul\\AppData\\Local\\Programs\\Python\\Python37\\lib\\site-packages\\sklearn\\utils\\validation.py:72: DataConversionWarning: A column-vector y was passed when a 1d array was expected. Please change the shape of y to (n_samples, ), for example using ravel().\n",
      "  return f(**kwargs)\n"
     ]
    }
   ],
   "source": [
    "# Training a Logistic Regression model\n",
    "LR_model = LogisticRegression(C=0.5).fit(train_x_encoded_scaled,train_y_encoded_scaled)"
   ]
  },
  {
   "cell_type": "code",
   "execution_count": 63,
   "metadata": {
    "scrolled": true
   },
   "outputs": [
    {
     "name": "stdout",
     "output_type": "stream",
     "text": [
      "LR Jaccard index: 0.663755\n",
      "LR F1-score: 0.770603\n"
     ]
    },
    {
     "data": {
      "text/plain": [
       "array([[ 47,  71],\n",
       "       [  6, 257]], dtype=int64)"
      ]
     },
     "execution_count": 63,
     "metadata": {},
     "output_type": "execute_result"
    }
   ],
   "source": [
    "# Testing on train set\n",
    "yhat = LR_model.predict(train_x_encoded_scaled)\n",
    "print(\"LR Jaccard index: %f\" % jaccard_score(train_y_encoded_scaled, yhat, average = \"micro\"))\n",
    "print(\"LR F1-score: %f\" % f1_score(train_y_encoded_scaled, yhat, average='weighted', pos_label = 1))\n",
    "confusion_matrix(train_y_encoded_scaled, yhat)"
   ]
  },
  {
   "cell_type": "code",
   "execution_count": 66,
   "metadata": {},
   "outputs": [
    {
     "name": "stdout",
     "output_type": "stream",
     "text": [
      "LR Jaccard index: 0.736842\n",
      "LR F1-score: 0.834053\n"
     ]
    },
    {
     "data": {
      "text/plain": [
       "array([[16, 14],\n",
       "       [ 1, 68]], dtype=int64)"
      ]
     },
     "execution_count": 66,
     "metadata": {},
     "output_type": "execute_result"
    }
   ],
   "source": [
    "# Testing on test set\n",
    "yhat = LR_model.predict(test_x_encoded_scaled)\n",
    "print(\"LR Jaccard index: %f\" % jaccard_score(test_y_encoded_scaled, yhat, average = \"micro\"))\n",
    "print(\"LR F1-score: %f\" % f1_score(test_y_encoded_scaled, yhat, average='weighted', pos_label = 1))\n",
    "confusion_matrix(test_y_encoded_scaled, yhat)"
   ]
  },
  {
   "cell_type": "code",
   "execution_count": null,
   "metadata": {},
   "outputs": [],
   "source": []
  },
  {
   "cell_type": "code",
   "execution_count": null,
   "metadata": {},
   "outputs": [],
   "source": []
  }
 ],
 "metadata": {
  "kernelspec": {
   "display_name": "Python 3.7.4 64-bit",
   "language": "python",
   "name": "python37464bit307b39dcff424aaea1adc9bea3b3c115"
  },
  "language_info": {
   "codemirror_mode": {
    "name": "ipython",
    "version": 3
   },
   "file_extension": ".py",
   "mimetype": "text/x-python",
   "name": "python",
   "nbconvert_exporter": "python",
   "pygments_lexer": "ipython3",
   "version": "3.7.4"
  }
 },
 "nbformat": 4,
 "nbformat_minor": 4
}
