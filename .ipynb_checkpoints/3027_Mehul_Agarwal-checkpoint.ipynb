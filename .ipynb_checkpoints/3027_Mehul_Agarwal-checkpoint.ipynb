{
 "cells": [
  {
   "cell_type": "markdown",
   "metadata": {},
   "source": [
    "# Data Mining Assignment - 01"
   ]
  },
  {
   "cell_type": "markdown",
   "metadata": {},
   "source": [
    "## Mehul Agarwal - 19020343027 - MBA BA - SCMHRD"
   ]
  },
  {
   "cell_type": "markdown",
   "metadata": {},
   "source": [
    "Problem statement:\n",
    "Build a classifier to assess status of loan defaults from the given data.\n",
    "This assignment solution includes hands-on experience on:\n",
    "1. Data Preprocessing\n",
    "2. ML Model Building - evaluation & selection"
   ]
  },
  {
   "cell_type": "code",
   "execution_count": 1,
   "metadata": {},
   "outputs": [],
   "source": [
    "# import libraries\n",
    "import pandas as pd\n",
    "import numpy as np\n",
    "import matplotlib.pyplot as plt\n",
    "from sklearn.model_selection import StratifiedShuffleSplit\n",
    "from sklearn.impute import SimpleImputer\n",
    "from sklearn.preprocessing import LabelBinarizer\n",
    "from sklearn.preprocessing import MinMaxScaler\n",
    "from sklearn.linear_model import LogisticRegression\n",
    "from sklearn.svm import SVC, LinearSVC\n",
    "from sklearn.neighbors import KNeighborsClassifier\n",
    "from sklearn.tree import DecisionTreeClassifier\n",
    "from sklearn.metrics import jaccard_score\n",
    "from sklearn.metrics import f1_score\n",
    "from sklearn.metrics import plot_roc_curve\n",
    "from sklearn.metrics import classification_report\n",
    "from imblearn.over_sampling import SMOTE \n",
    "\n",
    "%matplotlib inline"
   ]
  },
  {
   "cell_type": "code",
   "execution_count": 2,
   "metadata": {},
   "outputs": [
    {
     "data": {
      "text/html": [
       "<div>\n",
       "<style scoped>\n",
       "    .dataframe tbody tr th:only-of-type {\n",
       "        vertical-align: middle;\n",
       "    }\n",
       "\n",
       "    .dataframe tbody tr th {\n",
       "        vertical-align: top;\n",
       "    }\n",
       "\n",
       "    .dataframe thead th {\n",
       "        text-align: right;\n",
       "    }\n",
       "</style>\n",
       "<table border=\"1\" class=\"dataframe\">\n",
       "  <thead>\n",
       "    <tr style=\"text-align: right;\">\n",
       "      <th></th>\n",
       "      <th>Income_of_Applicant</th>\n",
       "      <th>Income_of_Joint_Applicant</th>\n",
       "      <th>Loan_Amount_Requirement</th>\n",
       "      <th>Loan_Amount_Term</th>\n",
       "      <th>Credit_History</th>\n",
       "      <th>Gender</th>\n",
       "      <th>Is_Married</th>\n",
       "      <th>No_of_Dependents</th>\n",
       "      <th>Level_of_Education</th>\n",
       "      <th>IS_Self_Employed</th>\n",
       "      <th>Area_of_Property</th>\n",
       "      <th>Loan_Status</th>\n",
       "    </tr>\n",
       "  </thead>\n",
       "  <tbody>\n",
       "    <tr>\n",
       "      <th>0</th>\n",
       "      <td>5849</td>\n",
       "      <td>0.0</td>\n",
       "      <td>NaN</td>\n",
       "      <td>360.0</td>\n",
       "      <td>1.0</td>\n",
       "      <td>Male</td>\n",
       "      <td>No</td>\n",
       "      <td>0</td>\n",
       "      <td>Graduate</td>\n",
       "      <td>No</td>\n",
       "      <td>Urban</td>\n",
       "      <td>Y</td>\n",
       "    </tr>\n",
       "    <tr>\n",
       "      <th>1</th>\n",
       "      <td>4583</td>\n",
       "      <td>1508.0</td>\n",
       "      <td>128.0</td>\n",
       "      <td>360.0</td>\n",
       "      <td>1.0</td>\n",
       "      <td>Male</td>\n",
       "      <td>Yes</td>\n",
       "      <td>1</td>\n",
       "      <td>Graduate</td>\n",
       "      <td>No</td>\n",
       "      <td>Rural</td>\n",
       "      <td>N</td>\n",
       "    </tr>\n",
       "    <tr>\n",
       "      <th>2</th>\n",
       "      <td>3000</td>\n",
       "      <td>0.0</td>\n",
       "      <td>66.0</td>\n",
       "      <td>360.0</td>\n",
       "      <td>1.0</td>\n",
       "      <td>Male</td>\n",
       "      <td>Yes</td>\n",
       "      <td>0</td>\n",
       "      <td>Graduate</td>\n",
       "      <td>Yes</td>\n",
       "      <td>Urban</td>\n",
       "      <td>Y</td>\n",
       "    </tr>\n",
       "    <tr>\n",
       "      <th>3</th>\n",
       "      <td>2583</td>\n",
       "      <td>2358.0</td>\n",
       "      <td>120.0</td>\n",
       "      <td>360.0</td>\n",
       "      <td>1.0</td>\n",
       "      <td>Male</td>\n",
       "      <td>Yes</td>\n",
       "      <td>0</td>\n",
       "      <td>Not Graduate</td>\n",
       "      <td>No</td>\n",
       "      <td>Urban</td>\n",
       "      <td>Y</td>\n",
       "    </tr>\n",
       "    <tr>\n",
       "      <th>4</th>\n",
       "      <td>6000</td>\n",
       "      <td>0.0</td>\n",
       "      <td>141.0</td>\n",
       "      <td>360.0</td>\n",
       "      <td>1.0</td>\n",
       "      <td>Male</td>\n",
       "      <td>No</td>\n",
       "      <td>0</td>\n",
       "      <td>Graduate</td>\n",
       "      <td>No</td>\n",
       "      <td>Urban</td>\n",
       "      <td>Y</td>\n",
       "    </tr>\n",
       "  </tbody>\n",
       "</table>\n",
       "</div>"
      ],
      "text/plain": [
       "   Income_of_Applicant  Income_of_Joint_Applicant  Loan_Amount_Requirement  \\\n",
       "0                 5849                        0.0                      NaN   \n",
       "1                 4583                     1508.0                    128.0   \n",
       "2                 3000                        0.0                     66.0   \n",
       "3                 2583                     2358.0                    120.0   \n",
       "4                 6000                        0.0                    141.0   \n",
       "\n",
       "   Loan_Amount_Term  Credit_History Gender Is_Married No_of_Dependents  \\\n",
       "0             360.0             1.0   Male         No                0   \n",
       "1             360.0             1.0   Male        Yes                1   \n",
       "2             360.0             1.0   Male        Yes                0   \n",
       "3             360.0             1.0   Male        Yes                0   \n",
       "4             360.0             1.0   Male         No                0   \n",
       "\n",
       "  Level_of_Education IS_Self_Employed Area_of_Property Loan_Status  \n",
       "0           Graduate               No            Urban           Y  \n",
       "1           Graduate               No            Rural           N  \n",
       "2           Graduate              Yes            Urban           Y  \n",
       "3       Not Graduate               No            Urban           Y  \n",
       "4           Graduate               No            Urban           Y  "
      ]
     },
     "execution_count": 2,
     "metadata": {},
     "output_type": "execute_result"
    }
   ],
   "source": [
    "loan = pd.read_csv(\"Train_Data.csv\")\n",
    "loan.set_index(\"ID\", inplace = True)\n",
    "loan.reset_index(drop=True, inplace = True)\n",
    "loan.head()"
   ]
  },
  {
   "cell_type": "code",
   "execution_count": 3,
   "metadata": {},
   "outputs": [
    {
     "name": "stdout",
     "output_type": "stream",
     "text": [
      "Total rows with missing values: 21.82 % of total data!!!\n"
     ]
    }
   ],
   "source": [
    "print(\"Total rows with missing values: \" + str(round((loan.isnull().any(axis=1).sum()/loan.shape[0])*100,2)) + \" % of total data!!!\")"
   ]
  },
  {
   "cell_type": "code",
   "execution_count": 4,
   "metadata": {},
   "outputs": [
    {
     "data": {
      "text/plain": [
       "Text(0.5, 1.0, 'IS_Self_Employed')"
      ]
     },
     "execution_count": 4,
     "metadata": {},
     "output_type": "execute_result"
    },
    {
     "data": {
      "image/png": "[encoded data removed]",
      "text/plain": [
       "<Figure size 1440x360 with 7 Axes>"
      ]
     },
     "metadata": {
      "needs_background": "light"
     },
     "output_type": "display_data"
    }
   ],
   "source": [
    "fig, axes = plt.subplots(1, 7, figsize = (20,5))\n",
    "\n",
    "loan.hist(\"Loan_Amount_Requirement\", ax = axes[0])\n",
    "loan.hist(\"Loan_Amount_Term\", ax = axes[1])\n",
    "loan.hist(\"Credit_History\", ax = axes[2])\n",
    "loan.Gender.value_counts(normalize = True, dropna = False).plot(kind=\"bar\", ax = axes[3]).set_title(\"Gender\")\n",
    "loan.Is_Married.value_counts(normalize = True, dropna = False).plot(kind=\"bar\", ax = axes[4]).set_title(\"Is_Married\")\n",
    "loan.No_of_Dependents.value_counts(normalize = True, dropna = False).plot(kind=\"bar\", ax = axes[5]).set_title(\"No_of_Dependents\")\n",
    "loan.IS_Self_Employed.value_counts(normalize = True, dropna = False).plot(kind=\"bar\", ax = axes[6]).set_title(\"IS_Self_Employed\")"
   ]
  },
  {
   "cell_type": "markdown",
   "metadata": {},
   "source": [
    "Checking traget variable class!"
   ]
  },
  {
   "cell_type": "code",
   "execution_count": 5,
   "metadata": {
    "scrolled": true
   },
   "outputs": [
    {
     "data": {
      "text/plain": [
       "Y    68.729642\n",
       "N    31.270358\n",
       "Name: Loan_Status, dtype: float64"
      ]
     },
     "execution_count": 5,
     "metadata": {},
     "output_type": "execute_result"
    }
   ],
   "source": [
    "(loan[\"Loan_Status\"].value_counts(dropna=False)/len(loan[\"Loan_Status\"]))*100"
   ]
  },
  {
   "cell_type": "code",
   "execution_count": 6,
   "metadata": {},
   "outputs": [
    {
     "data": {
      "text/plain": [
       "array([[<AxesSubplot:title={'center':'Income_of_Applicant'}>,\n",
       "        <AxesSubplot:title={'center':'Income_of_Joint_Applicant'}>],\n",
       "       [<AxesSubplot:title={'center':'Loan_Amount_Requirement'}>,\n",
       "        <AxesSubplot:title={'center':'Loan_Amount_Term'}>],\n",
       "       [<AxesSubplot:title={'center':'Credit_History'}>, <AxesSubplot:>]],\n",
       "      dtype=object)"
      ]
     },
     "execution_count": 6,
     "metadata": {},
     "output_type": "execute_result"
    },
    {
     "data": {
      "image/png": "[encoded data removed]",
      "text/plain": [
       "<Figure size 1080x720 with 6 Axes>"
      ]
     },
     "metadata": {
      "needs_background": "light"
     },
     "output_type": "display_data"
    }
   ],
   "source": [
    "loan.hist(bins = 50, figsize = (15,10))"
   ]
  },
  {
   "cell_type": "code",
   "execution_count": 7,
   "metadata": {},
   "outputs": [
    {
     "data": {
      "text/plain": [
       "<AxesSubplot:>"
      ]
     },
     "execution_count": 7,
     "metadata": {},
     "output_type": "execute_result"
    },
    {
     "data": {
      "image/png": "[encoded data removed]",
      "text/plain": [
       "<Figure size 432x288 with 1 Axes>"
      ]
     },
     "metadata": {
      "needs_background": "light"
     },
     "output_type": "display_data"
    }
   ],
   "source": [
    "pd.cut(loan[\"Income_of_Applicant\"], bins = [0., 2500., 5000., 7500., 10000., np.inf], labels = [2500, 5000, 7500, 10000, \"10,000+\"], right = False).sort_values().hist()"
   ]
  },
  {
   "cell_type": "markdown",
   "metadata": {},
   "source": [
    "We see that income of applicants are distributed in a right skewed manner!"
   ]
  },
  {
   "cell_type": "markdown",
   "metadata": {},
   "source": [
    "### Splitting data into training and test sets"
   ]
  },
  {
   "cell_type": "code",
   "execution_count": 8,
   "metadata": {},
   "outputs": [],
   "source": [
    "# Changed\n",
    "# This is stratified sampling based on \"Loan Status\".\n",
    "split = StratifiedShuffleSplit(n_splits = 1, test_size = 0.3, random_state = 42)\n",
    "for train_index_s, test_index_s in split.split(loan, loan[\"Loan_Status\"]):\n",
    "    strat_train_set = loan.iloc[train_index_s]\n",
    "    strat_test_set = loan.iloc[test_index_s]"
   ]
  },
  {
   "cell_type": "code",
   "execution_count": 9,
   "metadata": {},
   "outputs": [
    {
     "data": {
      "text/html": [
       "<div>\n",
       "<style scoped>\n",
       "    .dataframe tbody tr th:only-of-type {\n",
       "        vertical-align: middle;\n",
       "    }\n",
       "\n",
       "    .dataframe tbody tr th {\n",
       "        vertical-align: top;\n",
       "    }\n",
       "\n",
       "    .dataframe thead th {\n",
       "        text-align: right;\n",
       "    }\n",
       "</style>\n",
       "<table border=\"1\" class=\"dataframe\">\n",
       "  <thead>\n",
       "    <tr style=\"text-align: right;\">\n",
       "      <th></th>\n",
       "      <th>Income_of_Applicant</th>\n",
       "      <th>Income_of_Joint_Applicant</th>\n",
       "      <th>Loan_Amount_Requirement</th>\n",
       "      <th>Loan_Amount_Term</th>\n",
       "      <th>Credit_History</th>\n",
       "      <th>Gender</th>\n",
       "      <th>Is_Married</th>\n",
       "      <th>No_of_Dependents</th>\n",
       "      <th>Level_of_Education</th>\n",
       "      <th>IS_Self_Employed</th>\n",
       "      <th>Area_of_Property</th>\n",
       "      <th>Loan_Status</th>\n",
       "    </tr>\n",
       "  </thead>\n",
       "  <tbody>\n",
       "    <tr>\n",
       "      <th>197</th>\n",
       "      <td>1907</td>\n",
       "      <td>2365.0</td>\n",
       "      <td>120.0</td>\n",
       "      <td>NaN</td>\n",
       "      <td>1.0</td>\n",
       "      <td>Female</td>\n",
       "      <td>No</td>\n",
       "      <td>0</td>\n",
       "      <td>Not Graduate</td>\n",
       "      <td>No</td>\n",
       "      <td>Urban</td>\n",
       "      <td>Y</td>\n",
       "    </tr>\n",
       "    <tr>\n",
       "      <th>175</th>\n",
       "      <td>3497</td>\n",
       "      <td>1964.0</td>\n",
       "      <td>116.0</td>\n",
       "      <td>360.0</td>\n",
       "      <td>1.0</td>\n",
       "      <td>Male</td>\n",
       "      <td>Yes</td>\n",
       "      <td>0</td>\n",
       "      <td>Graduate</td>\n",
       "      <td>No</td>\n",
       "      <td>Rural</td>\n",
       "      <td>Y</td>\n",
       "    </tr>\n",
       "    <tr>\n",
       "      <th>526</th>\n",
       "      <td>3775</td>\n",
       "      <td>0.0</td>\n",
       "      <td>110.0</td>\n",
       "      <td>360.0</td>\n",
       "      <td>1.0</td>\n",
       "      <td>Male</td>\n",
       "      <td>Yes</td>\n",
       "      <td>0</td>\n",
       "      <td>Graduate</td>\n",
       "      <td>No</td>\n",
       "      <td>Semiurban</td>\n",
       "      <td>Y</td>\n",
       "    </tr>\n",
       "    <tr>\n",
       "      <th>149</th>\n",
       "      <td>4860</td>\n",
       "      <td>830.0</td>\n",
       "      <td>125.0</td>\n",
       "      <td>360.0</td>\n",
       "      <td>1.0</td>\n",
       "      <td>Male</td>\n",
       "      <td>Yes</td>\n",
       "      <td>0</td>\n",
       "      <td>Graduate</td>\n",
       "      <td>No</td>\n",
       "      <td>Semiurban</td>\n",
       "      <td>Y</td>\n",
       "    </tr>\n",
       "    <tr>\n",
       "      <th>507</th>\n",
       "      <td>3583</td>\n",
       "      <td>0.0</td>\n",
       "      <td>96.0</td>\n",
       "      <td>360.0</td>\n",
       "      <td>1.0</td>\n",
       "      <td>NaN</td>\n",
       "      <td>No</td>\n",
       "      <td>0</td>\n",
       "      <td>Graduate</td>\n",
       "      <td>No</td>\n",
       "      <td>Urban</td>\n",
       "      <td>N</td>\n",
       "    </tr>\n",
       "  </tbody>\n",
       "</table>\n",
       "</div>"
      ],
      "text/plain": [
       "     Income_of_Applicant  Income_of_Joint_Applicant  Loan_Amount_Requirement  \\\n",
       "197                 1907                     2365.0                    120.0   \n",
       "175                 3497                     1964.0                    116.0   \n",
       "526                 3775                        0.0                    110.0   \n",
       "149                 4860                      830.0                    125.0   \n",
       "507                 3583                        0.0                     96.0   \n",
       "\n",
       "     Loan_Amount_Term  Credit_History  Gender Is_Married No_of_Dependents  \\\n",
       "197               NaN             1.0  Female         No                0   \n",
       "175             360.0             1.0    Male        Yes                0   \n",
       "526             360.0             1.0    Male        Yes                0   \n",
       "149             360.0             1.0    Male        Yes                0   \n",
       "507             360.0             1.0     NaN         No                0   \n",
       "\n",
       "    Level_of_Education IS_Self_Employed Area_of_Property Loan_Status  \n",
       "197       Not Graduate               No            Urban           Y  \n",
       "175           Graduate               No            Rural           Y  \n",
       "526           Graduate               No        Semiurban           Y  \n",
       "149           Graduate               No        Semiurban           Y  \n",
       "507           Graduate               No            Urban           N  "
      ]
     },
     "execution_count": 9,
     "metadata": {},
     "output_type": "execute_result"
    }
   ],
   "source": [
    "strat_train_set.head()"
   ]
  },
  {
   "cell_type": "markdown",
   "metadata": {},
   "source": [
    "### Splitting train set based on numerical & categorical features"
   ]
  },
  {
   "cell_type": "code",
   "execution_count": 10,
   "metadata": {},
   "outputs": [],
   "source": [
    "# seperate the numerical & categorical features\n",
    "train_num_col  = list(strat_train_set.select_dtypes([\"int64\",\"float\"]).columns)\n",
    "train_cat_col = list(strat_train_set.select_dtypes(\"object\").columns)"
   ]
  },
  {
   "cell_type": "code",
   "execution_count": 11,
   "metadata": {},
   "outputs": [
    {
     "name": "stdout",
     "output_type": "stream",
     "text": [
      "['Income_of_Applicant', 'Income_of_Joint_Applicant', 'Loan_Amount_Requirement', 'Loan_Amount_Term', 'Credit_History']\n",
      "['Gender', 'Is_Married', 'No_of_Dependents', 'Level_of_Education', 'IS_Self_Employed', 'Area_of_Property', 'Loan_Status']\n"
     ]
    }
   ],
   "source": [
    "print(train_num_col)\n",
    "print(train_cat_col)"
   ]
  },
  {
   "cell_type": "code",
   "execution_count": 12,
   "metadata": {},
   "outputs": [],
   "source": [
    "train_num = strat_train_set[train_num_col]\n",
    "train_cat = strat_train_set[train_cat_col]"
   ]
  },
  {
   "cell_type": "code",
   "execution_count": 13,
   "metadata": {},
   "outputs": [
    {
     "data": {
      "text/html": [
       "<div>\n",
       "<style scoped>\n",
       "    .dataframe tbody tr th:only-of-type {\n",
       "        vertical-align: middle;\n",
       "    }\n",
       "\n",
       "    .dataframe tbody tr th {\n",
       "        vertical-align: top;\n",
       "    }\n",
       "\n",
       "    .dataframe thead th {\n",
       "        text-align: right;\n",
       "    }\n",
       "</style>\n",
       "<table border=\"1\" class=\"dataframe\">\n",
       "  <thead>\n",
       "    <tr style=\"text-align: right;\">\n",
       "      <th></th>\n",
       "      <th>Income_of_Applicant</th>\n",
       "      <th>Income_of_Joint_Applicant</th>\n",
       "      <th>Loan_Amount_Requirement</th>\n",
       "      <th>Loan_Amount_Term</th>\n",
       "      <th>Credit_History</th>\n",
       "    </tr>\n",
       "  </thead>\n",
       "  <tbody>\n",
       "    <tr>\n",
       "      <th>197</th>\n",
       "      <td>1907</td>\n",
       "      <td>2365.0</td>\n",
       "      <td>120.0</td>\n",
       "      <td>NaN</td>\n",
       "      <td>1.0</td>\n",
       "    </tr>\n",
       "    <tr>\n",
       "      <th>175</th>\n",
       "      <td>3497</td>\n",
       "      <td>1964.0</td>\n",
       "      <td>116.0</td>\n",
       "      <td>360.0</td>\n",
       "      <td>1.0</td>\n",
       "    </tr>\n",
       "    <tr>\n",
       "      <th>526</th>\n",
       "      <td>3775</td>\n",
       "      <td>0.0</td>\n",
       "      <td>110.0</td>\n",
       "      <td>360.0</td>\n",
       "      <td>1.0</td>\n",
       "    </tr>\n",
       "    <tr>\n",
       "      <th>149</th>\n",
       "      <td>4860</td>\n",
       "      <td>830.0</td>\n",
       "      <td>125.0</td>\n",
       "      <td>360.0</td>\n",
       "      <td>1.0</td>\n",
       "    </tr>\n",
       "    <tr>\n",
       "      <th>507</th>\n",
       "      <td>3583</td>\n",
       "      <td>0.0</td>\n",
       "      <td>96.0</td>\n",
       "      <td>360.0</td>\n",
       "      <td>1.0</td>\n",
       "    </tr>\n",
       "  </tbody>\n",
       "</table>\n",
       "</div>"
      ],
      "text/plain": [
       "     Income_of_Applicant  Income_of_Joint_Applicant  Loan_Amount_Requirement  \\\n",
       "197                 1907                     2365.0                    120.0   \n",
       "175                 3497                     1964.0                    116.0   \n",
       "526                 3775                        0.0                    110.0   \n",
       "149                 4860                      830.0                    125.0   \n",
       "507                 3583                        0.0                     96.0   \n",
       "\n",
       "     Loan_Amount_Term  Credit_History  \n",
       "197               NaN             1.0  \n",
       "175             360.0             1.0  \n",
       "526             360.0             1.0  \n",
       "149             360.0             1.0  \n",
       "507             360.0             1.0  "
      ]
     },
     "execution_count": 13,
     "metadata": {},
     "output_type": "execute_result"
    }
   ],
   "source": [
    "train_num.head(5)"
   ]
  },
  {
   "cell_type": "markdown",
   "metadata": {},
   "source": [
    "### Imputing missing values based on \"mean\" for numerical features"
   ]
  },
  {
   "cell_type": "code",
   "execution_count": 14,
   "metadata": {},
   "outputs": [
    {
     "name": "stdout",
     "output_type": "stream",
     "text": [
      "[5.62321212e+03 1.58877622e+03 1.49239709e+02 3.40374101e+02\n",
      " 8.58974359e-01]\n"
     ]
    },
    {
     "data": {
      "text/html": [
       "<div>\n",
       "<style scoped>\n",
       "    .dataframe tbody tr th:only-of-type {\n",
       "        vertical-align: middle;\n",
       "    }\n",
       "\n",
       "    .dataframe tbody tr th {\n",
       "        vertical-align: top;\n",
       "    }\n",
       "\n",
       "    .dataframe thead th {\n",
       "        text-align: right;\n",
       "    }\n",
       "</style>\n",
       "<table border=\"1\" class=\"dataframe\">\n",
       "  <thead>\n",
       "    <tr style=\"text-align: right;\">\n",
       "      <th></th>\n",
       "      <th>Income_of_Applicant</th>\n",
       "      <th>Income_of_Joint_Applicant</th>\n",
       "      <th>Loan_Amount_Requirement</th>\n",
       "      <th>Loan_Amount_Term</th>\n",
       "      <th>Credit_History</th>\n",
       "    </tr>\n",
       "  </thead>\n",
       "  <tbody>\n",
       "    <tr>\n",
       "      <th>197</th>\n",
       "      <td>1907.0</td>\n",
       "      <td>2365.0</td>\n",
       "      <td>120.0</td>\n",
       "      <td>340.374101</td>\n",
       "      <td>1.0</td>\n",
       "    </tr>\n",
       "    <tr>\n",
       "      <th>175</th>\n",
       "      <td>3497.0</td>\n",
       "      <td>1964.0</td>\n",
       "      <td>116.0</td>\n",
       "      <td>360.000000</td>\n",
       "      <td>1.0</td>\n",
       "    </tr>\n",
       "    <tr>\n",
       "      <th>526</th>\n",
       "      <td>3775.0</td>\n",
       "      <td>0.0</td>\n",
       "      <td>110.0</td>\n",
       "      <td>360.000000</td>\n",
       "      <td>1.0</td>\n",
       "    </tr>\n",
       "    <tr>\n",
       "      <th>149</th>\n",
       "      <td>4860.0</td>\n",
       "      <td>830.0</td>\n",
       "      <td>125.0</td>\n",
       "      <td>360.000000</td>\n",
       "      <td>1.0</td>\n",
       "    </tr>\n",
       "    <tr>\n",
       "      <th>507</th>\n",
       "      <td>3583.0</td>\n",
       "      <td>0.0</td>\n",
       "      <td>96.0</td>\n",
       "      <td>360.000000</td>\n",
       "      <td>1.0</td>\n",
       "    </tr>\n",
       "  </tbody>\n",
       "</table>\n",
       "</div>"
      ],
      "text/plain": [
       "     Income_of_Applicant  Income_of_Joint_Applicant  Loan_Amount_Requirement  \\\n",
       "197               1907.0                     2365.0                    120.0   \n",
       "175               3497.0                     1964.0                    116.0   \n",
       "526               3775.0                        0.0                    110.0   \n",
       "149               4860.0                      830.0                    125.0   \n",
       "507               3583.0                        0.0                     96.0   \n",
       "\n",
       "     Loan_Amount_Term  Credit_History  \n",
       "197        340.374101             1.0  \n",
       "175        360.000000             1.0  \n",
       "526        360.000000             1.0  \n",
       "149        360.000000             1.0  \n",
       "507        360.000000             1.0  "
      ]
     },
     "execution_count": 14,
     "metadata": {},
     "output_type": "execute_result"
    }
   ],
   "source": [
    "imputer = SimpleImputer(strategy=\"mean\")\n",
    "imputer.fit(train_num)\n",
    "print(imputer.statistics_)\n",
    "train_num_imp = pd.DataFrame(imputer.transform(train_num), columns = train_num.columns, index = train_num.index)\n",
    "train_num_imp.head(5)"
   ]
  },
  {
   "cell_type": "markdown",
   "metadata": {},
   "source": [
    "### Min-Max Scaling numerical features "
   ]
  },
  {
   "cell_type": "code",
   "execution_count": 15,
   "metadata": {},
   "outputs": [
    {
     "data": {
      "text/html": [
       "<div>\n",
       "<style scoped>\n",
       "    .dataframe tbody tr th:only-of-type {\n",
       "        vertical-align: middle;\n",
       "    }\n",
       "\n",
       "    .dataframe tbody tr th {\n",
       "        vertical-align: top;\n",
       "    }\n",
       "\n",
       "    .dataframe thead th {\n",
       "        text-align: right;\n",
       "    }\n",
       "</style>\n",
       "<table border=\"1\" class=\"dataframe\">\n",
       "  <thead>\n",
       "    <tr style=\"text-align: right;\">\n",
       "      <th></th>\n",
       "      <th>Income_of_Applicant</th>\n",
       "      <th>Income_of_Joint_Applicant</th>\n",
       "      <th>Loan_Amount_Requirement</th>\n",
       "      <th>Loan_Amount_Term</th>\n",
       "      <th>Credit_History</th>\n",
       "    </tr>\n",
       "  </thead>\n",
       "  <tbody>\n",
       "    <tr>\n",
       "      <th>197</th>\n",
       "      <td>0.021005</td>\n",
       "      <td>0.056760</td>\n",
       "      <td>0.160637</td>\n",
       "      <td>0.701654</td>\n",
       "      <td>1.0</td>\n",
       "    </tr>\n",
       "    <tr>\n",
       "      <th>175</th>\n",
       "      <td>0.040686</td>\n",
       "      <td>0.047136</td>\n",
       "      <td>0.154848</td>\n",
       "      <td>0.743590</td>\n",
       "      <td>1.0</td>\n",
       "    </tr>\n",
       "    <tr>\n",
       "      <th>526</th>\n",
       "      <td>0.044127</td>\n",
       "      <td>0.000000</td>\n",
       "      <td>0.146165</td>\n",
       "      <td>0.743590</td>\n",
       "      <td>1.0</td>\n",
       "    </tr>\n",
       "    <tr>\n",
       "      <th>149</th>\n",
       "      <td>0.057557</td>\n",
       "      <td>0.019920</td>\n",
       "      <td>0.167873</td>\n",
       "      <td>0.743590</td>\n",
       "      <td>1.0</td>\n",
       "    </tr>\n",
       "    <tr>\n",
       "      <th>507</th>\n",
       "      <td>0.041750</td>\n",
       "      <td>0.000000</td>\n",
       "      <td>0.125904</td>\n",
       "      <td>0.743590</td>\n",
       "      <td>1.0</td>\n",
       "    </tr>\n",
       "  </tbody>\n",
       "</table>\n",
       "</div>"
      ],
      "text/plain": [
       "     Income_of_Applicant  Income_of_Joint_Applicant  Loan_Amount_Requirement  \\\n",
       "197             0.021005                   0.056760                 0.160637   \n",
       "175             0.040686                   0.047136                 0.154848   \n",
       "526             0.044127                   0.000000                 0.146165   \n",
       "149             0.057557                   0.019920                 0.167873   \n",
       "507             0.041750                   0.000000                 0.125904   \n",
       "\n",
       "     Loan_Amount_Term  Credit_History  \n",
       "197          0.701654             1.0  \n",
       "175          0.743590             1.0  \n",
       "526          0.743590             1.0  \n",
       "149          0.743590             1.0  \n",
       "507          0.743590             1.0  "
      ]
     },
     "execution_count": 15,
     "metadata": {},
     "output_type": "execute_result"
    }
   ],
   "source": [
    "scaler = MinMaxScaler()\n",
    "scaler.fit(train_num_imp)\n",
    "train_num_tr = scaler.transform(train_num_imp)\n",
    "train_num_tr = pd.DataFrame(scaler.transform(train_num_imp), columns = train_num.columns, index = train_num.index)\n",
    "train_num_tr.head(5)"
   ]
  },
  {
   "cell_type": "markdown",
   "metadata": {},
   "source": [
    "### Label encoding & One-Hot encoding categorical features"
   ]
  },
  {
   "cell_type": "code",
   "execution_count": 16,
   "metadata": {},
   "outputs": [],
   "source": [
    "to_binarize = [\"Gender\", \"Is_Married\", \"Level_of_Education\", \"IS_Self_Employed\", \"Loan_Status\"]\n",
    "to_one_hot = [\"No_of_Dependents\", \"Area_of_Property\"]"
   ]
  },
  {
   "cell_type": "markdown",
   "metadata": {},
   "source": [
    "### Imputing missing values based on \"mode\" for categorical features"
   ]
  },
  {
   "cell_type": "code",
   "execution_count": 17,
   "metadata": {},
   "outputs": [
    {
     "data": {
      "text/html": [
       "<div>\n",
       "<style scoped>\n",
       "    .dataframe tbody tr th:only-of-type {\n",
       "        vertical-align: middle;\n",
       "    }\n",
       "\n",
       "    .dataframe tbody tr th {\n",
       "        vertical-align: top;\n",
       "    }\n",
       "\n",
       "    .dataframe thead th {\n",
       "        text-align: right;\n",
       "    }\n",
       "</style>\n",
       "<table border=\"1\" class=\"dataframe\">\n",
       "  <thead>\n",
       "    <tr style=\"text-align: right;\">\n",
       "      <th></th>\n",
       "      <th>Gender</th>\n",
       "      <th>Is_Married</th>\n",
       "      <th>No_of_Dependents</th>\n",
       "      <th>Level_of_Education</th>\n",
       "      <th>IS_Self_Employed</th>\n",
       "      <th>Area_of_Property</th>\n",
       "      <th>Loan_Status</th>\n",
       "    </tr>\n",
       "  </thead>\n",
       "  <tbody>\n",
       "    <tr>\n",
       "      <th>197</th>\n",
       "      <td>Female</td>\n",
       "      <td>No</td>\n",
       "      <td>0</td>\n",
       "      <td>Not Graduate</td>\n",
       "      <td>No</td>\n",
       "      <td>Urban</td>\n",
       "      <td>Y</td>\n",
       "    </tr>\n",
       "    <tr>\n",
       "      <th>175</th>\n",
       "      <td>Male</td>\n",
       "      <td>Yes</td>\n",
       "      <td>0</td>\n",
       "      <td>Graduate</td>\n",
       "      <td>No</td>\n",
       "      <td>Rural</td>\n",
       "      <td>Y</td>\n",
       "    </tr>\n",
       "    <tr>\n",
       "      <th>526</th>\n",
       "      <td>Male</td>\n",
       "      <td>Yes</td>\n",
       "      <td>0</td>\n",
       "      <td>Graduate</td>\n",
       "      <td>No</td>\n",
       "      <td>Semiurban</td>\n",
       "      <td>Y</td>\n",
       "    </tr>\n",
       "    <tr>\n",
       "      <th>149</th>\n",
       "      <td>Male</td>\n",
       "      <td>Yes</td>\n",
       "      <td>0</td>\n",
       "      <td>Graduate</td>\n",
       "      <td>No</td>\n",
       "      <td>Semiurban</td>\n",
       "      <td>Y</td>\n",
       "    </tr>\n",
       "    <tr>\n",
       "      <th>507</th>\n",
       "      <td>Male</td>\n",
       "      <td>No</td>\n",
       "      <td>0</td>\n",
       "      <td>Graduate</td>\n",
       "      <td>No</td>\n",
       "      <td>Urban</td>\n",
       "      <td>N</td>\n",
       "    </tr>\n",
       "  </tbody>\n",
       "</table>\n",
       "</div>"
      ],
      "text/plain": [
       "     Gender Is_Married No_of_Dependents Level_of_Education IS_Self_Employed  \\\n",
       "197  Female         No                0       Not Graduate               No   \n",
       "175    Male        Yes                0           Graduate               No   \n",
       "526    Male        Yes                0           Graduate               No   \n",
       "149    Male        Yes                0           Graduate               No   \n",
       "507    Male         No                0           Graduate               No   \n",
       "\n",
       "    Area_of_Property Loan_Status  \n",
       "197            Urban           Y  \n",
       "175            Rural           Y  \n",
       "526        Semiurban           Y  \n",
       "149        Semiurban           Y  \n",
       "507            Urban           N  "
      ]
     },
     "execution_count": 17,
     "metadata": {},
     "output_type": "execute_result"
    }
   ],
   "source": [
    "# imputing missing values with \"mode\" values\n",
    "train_cat = train_cat.apply(lambda x: x.fillna(x.value_counts().index[0]))\n",
    "train_cat.head(5)"
   ]
  },
  {
   "cell_type": "code",
   "execution_count": 18,
   "metadata": {},
   "outputs": [],
   "source": [
    "# Label encoding & 1-hot encoding\n",
    "def binarize_1hot(dataset, to_binarize, to_one_hot):\n",
    "    for i in to_binarize:\n",
    "        dataset[i] = LabelBinarizer().fit_transform(dataset[i])\n",
    "    dataset = pd.get_dummies(data = dataset, columns = to_one_hot)\n",
    "    return dataset"
   ]
  },
  {
   "cell_type": "code",
   "execution_count": 19,
   "metadata": {},
   "outputs": [
    {
     "data": {
      "text/html": [
       "<div>\n",
       "<style scoped>\n",
       "    .dataframe tbody tr th:only-of-type {\n",
       "        vertical-align: middle;\n",
       "    }\n",
       "\n",
       "    .dataframe tbody tr th {\n",
       "        vertical-align: top;\n",
       "    }\n",
       "\n",
       "    .dataframe thead th {\n",
       "        text-align: right;\n",
       "    }\n",
       "</style>\n",
       "<table border=\"1\" class=\"dataframe\">\n",
       "  <thead>\n",
       "    <tr style=\"text-align: right;\">\n",
       "      <th></th>\n",
       "      <th>Gender</th>\n",
       "      <th>Is_Married</th>\n",
       "      <th>Level_of_Education</th>\n",
       "      <th>IS_Self_Employed</th>\n",
       "      <th>Loan_Status</th>\n",
       "      <th>No_of_Dependents_0</th>\n",
       "      <th>No_of_Dependents_1</th>\n",
       "      <th>No_of_Dependents_2</th>\n",
       "      <th>No_of_Dependents_3+</th>\n",
       "      <th>Area_of_Property_Rural</th>\n",
       "      <th>Area_of_Property_Semiurban</th>\n",
       "      <th>Area_of_Property_Urban</th>\n",
       "    </tr>\n",
       "  </thead>\n",
       "  <tbody>\n",
       "    <tr>\n",
       "      <th>197</th>\n",
       "      <td>0</td>\n",
       "      <td>0</td>\n",
       "      <td>1</td>\n",
       "      <td>0</td>\n",
       "      <td>1</td>\n",
       "      <td>1</td>\n",
       "      <td>0</td>\n",
       "      <td>0</td>\n",
       "      <td>0</td>\n",
       "      <td>0</td>\n",
       "      <td>0</td>\n",
       "      <td>1</td>\n",
       "    </tr>\n",
       "    <tr>\n",
       "      <th>175</th>\n",
       "      <td>1</td>\n",
       "      <td>1</td>\n",
       "      <td>0</td>\n",
       "      <td>0</td>\n",
       "      <td>1</td>\n",
       "      <td>1</td>\n",
       "      <td>0</td>\n",
       "      <td>0</td>\n",
       "      <td>0</td>\n",
       "      <td>1</td>\n",
       "      <td>0</td>\n",
       "      <td>0</td>\n",
       "    </tr>\n",
       "    <tr>\n",
       "      <th>526</th>\n",
       "      <td>1</td>\n",
       "      <td>1</td>\n",
       "      <td>0</td>\n",
       "      <td>0</td>\n",
       "      <td>1</td>\n",
       "      <td>1</td>\n",
       "      <td>0</td>\n",
       "      <td>0</td>\n",
       "      <td>0</td>\n",
       "      <td>0</td>\n",
       "      <td>1</td>\n",
       "      <td>0</td>\n",
       "    </tr>\n",
       "    <tr>\n",
       "      <th>149</th>\n",
       "      <td>1</td>\n",
       "      <td>1</td>\n",
       "      <td>0</td>\n",
       "      <td>0</td>\n",
       "      <td>1</td>\n",
       "      <td>1</td>\n",
       "      <td>0</td>\n",
       "      <td>0</td>\n",
       "      <td>0</td>\n",
       "      <td>0</td>\n",
       "      <td>1</td>\n",
       "      <td>0</td>\n",
       "    </tr>\n",
       "    <tr>\n",
       "      <th>507</th>\n",
       "      <td>1</td>\n",
       "      <td>0</td>\n",
       "      <td>0</td>\n",
       "      <td>0</td>\n",
       "      <td>0</td>\n",
       "      <td>1</td>\n",
       "      <td>0</td>\n",
       "      <td>0</td>\n",
       "      <td>0</td>\n",
       "      <td>0</td>\n",
       "      <td>0</td>\n",
       "      <td>1</td>\n",
       "    </tr>\n",
       "  </tbody>\n",
       "</table>\n",
       "</div>"
      ],
      "text/plain": [
       "     Gender  Is_Married  Level_of_Education  IS_Self_Employed  Loan_Status  \\\n",
       "197       0           0                   1                 0            1   \n",
       "175       1           1                   0                 0            1   \n",
       "526       1           1                   0                 0            1   \n",
       "149       1           1                   0                 0            1   \n",
       "507       1           0                   0                 0            0   \n",
       "\n",
       "     No_of_Dependents_0  No_of_Dependents_1  No_of_Dependents_2  \\\n",
       "197                   1                   0                   0   \n",
       "175                   1                   0                   0   \n",
       "526                   1                   0                   0   \n",
       "149                   1                   0                   0   \n",
       "507                   1                   0                   0   \n",
       "\n",
       "     No_of_Dependents_3+  Area_of_Property_Rural  Area_of_Property_Semiurban  \\\n",
       "197                    0                       0                           0   \n",
       "175                    0                       1                           0   \n",
       "526                    0                       0                           1   \n",
       "149                    0                       0                           1   \n",
       "507                    0                       0                           0   \n",
       "\n",
       "     Area_of_Property_Urban  \n",
       "197                       1  \n",
       "175                       0  \n",
       "526                       0  \n",
       "149                       0  \n",
       "507                       1  "
      ]
     },
     "execution_count": 19,
     "metadata": {},
     "output_type": "execute_result"
    }
   ],
   "source": [
    "train_cat_tr = binarize_1hot(train_cat, to_binarize, to_one_hot)\n",
    "train_cat_tr.head(5)"
   ]
  },
  {
   "cell_type": "code",
   "execution_count": 20,
   "metadata": {},
   "outputs": [
    {
     "data": {
      "text/html": [
       "<div>\n",
       "<style scoped>\n",
       "    .dataframe tbody tr th:only-of-type {\n",
       "        vertical-align: middle;\n",
       "    }\n",
       "\n",
       "    .dataframe tbody tr th {\n",
       "        vertical-align: top;\n",
       "    }\n",
       "\n",
       "    .dataframe thead th {\n",
       "        text-align: right;\n",
       "    }\n",
       "</style>\n",
       "<table border=\"1\" class=\"dataframe\">\n",
       "  <thead>\n",
       "    <tr style=\"text-align: right;\">\n",
       "      <th></th>\n",
       "      <th>Income_of_Applicant</th>\n",
       "      <th>Income_of_Joint_Applicant</th>\n",
       "      <th>Loan_Amount_Requirement</th>\n",
       "      <th>Loan_Amount_Term</th>\n",
       "      <th>Credit_History</th>\n",
       "      <th>Gender</th>\n",
       "      <th>Is_Married</th>\n",
       "      <th>Level_of_Education</th>\n",
       "      <th>IS_Self_Employed</th>\n",
       "      <th>Loan_Status</th>\n",
       "      <th>No_of_Dependents_0</th>\n",
       "      <th>No_of_Dependents_1</th>\n",
       "      <th>No_of_Dependents_2</th>\n",
       "      <th>No_of_Dependents_3+</th>\n",
       "      <th>Area_of_Property_Rural</th>\n",
       "      <th>Area_of_Property_Semiurban</th>\n",
       "      <th>Area_of_Property_Urban</th>\n",
       "    </tr>\n",
       "  </thead>\n",
       "  <tbody>\n",
       "    <tr>\n",
       "      <th>197</th>\n",
       "      <td>0.021005</td>\n",
       "      <td>0.056760</td>\n",
       "      <td>0.160637</td>\n",
       "      <td>0.701654</td>\n",
       "      <td>1.0</td>\n",
       "      <td>0</td>\n",
       "      <td>0</td>\n",
       "      <td>1</td>\n",
       "      <td>0</td>\n",
       "      <td>1</td>\n",
       "      <td>1</td>\n",
       "      <td>0</td>\n",
       "      <td>0</td>\n",
       "      <td>0</td>\n",
       "      <td>0</td>\n",
       "      <td>0</td>\n",
       "      <td>1</td>\n",
       "    </tr>\n",
       "    <tr>\n",
       "      <th>175</th>\n",
       "      <td>0.040686</td>\n",
       "      <td>0.047136</td>\n",
       "      <td>0.154848</td>\n",
       "      <td>0.743590</td>\n",
       "      <td>1.0</td>\n",
       "      <td>1</td>\n",
       "      <td>1</td>\n",
       "      <td>0</td>\n",
       "      <td>0</td>\n",
       "      <td>1</td>\n",
       "      <td>1</td>\n",
       "      <td>0</td>\n",
       "      <td>0</td>\n",
       "      <td>0</td>\n",
       "      <td>1</td>\n",
       "      <td>0</td>\n",
       "      <td>0</td>\n",
       "    </tr>\n",
       "    <tr>\n",
       "      <th>526</th>\n",
       "      <td>0.044127</td>\n",
       "      <td>0.000000</td>\n",
       "      <td>0.146165</td>\n",
       "      <td>0.743590</td>\n",
       "      <td>1.0</td>\n",
       "      <td>1</td>\n",
       "      <td>1</td>\n",
       "      <td>0</td>\n",
       "      <td>0</td>\n",
       "      <td>1</td>\n",
       "      <td>1</td>\n",
       "      <td>0</td>\n",
       "      <td>0</td>\n",
       "      <td>0</td>\n",
       "      <td>0</td>\n",
       "      <td>1</td>\n",
       "      <td>0</td>\n",
       "    </tr>\n",
       "    <tr>\n",
       "      <th>149</th>\n",
       "      <td>0.057557</td>\n",
       "      <td>0.019920</td>\n",
       "      <td>0.167873</td>\n",
       "      <td>0.743590</td>\n",
       "      <td>1.0</td>\n",
       "      <td>1</td>\n",
       "      <td>1</td>\n",
       "      <td>0</td>\n",
       "      <td>0</td>\n",
       "      <td>1</td>\n",
       "      <td>1</td>\n",
       "      <td>0</td>\n",
       "      <td>0</td>\n",
       "      <td>0</td>\n",
       "      <td>0</td>\n",
       "      <td>1</td>\n",
       "      <td>0</td>\n",
       "    </tr>\n",
       "    <tr>\n",
       "      <th>507</th>\n",
       "      <td>0.041750</td>\n",
       "      <td>0.000000</td>\n",
       "      <td>0.125904</td>\n",
       "      <td>0.743590</td>\n",
       "      <td>1.0</td>\n",
       "      <td>1</td>\n",
       "      <td>0</td>\n",
       "      <td>0</td>\n",
       "      <td>0</td>\n",
       "      <td>0</td>\n",
       "      <td>1</td>\n",
       "      <td>0</td>\n",
       "      <td>0</td>\n",
       "      <td>0</td>\n",
       "      <td>0</td>\n",
       "      <td>0</td>\n",
       "      <td>1</td>\n",
       "    </tr>\n",
       "  </tbody>\n",
       "</table>\n",
       "</div>"
      ],
      "text/plain": [
       "     Income_of_Applicant  Income_of_Joint_Applicant  Loan_Amount_Requirement  \\\n",
       "197             0.021005                   0.056760                 0.160637   \n",
       "175             0.040686                   0.047136                 0.154848   \n",
       "526             0.044127                   0.000000                 0.146165   \n",
       "149             0.057557                   0.019920                 0.167873   \n",
       "507             0.041750                   0.000000                 0.125904   \n",
       "\n",
       "     Loan_Amount_Term  Credit_History  Gender  Is_Married  Level_of_Education  \\\n",
       "197          0.701654             1.0       0           0                   1   \n",
       "175          0.743590             1.0       1           1                   0   \n",
       "526          0.743590             1.0       1           1                   0   \n",
       "149          0.743590             1.0       1           1                   0   \n",
       "507          0.743590             1.0       1           0                   0   \n",
       "\n",
       "     IS_Self_Employed  Loan_Status  No_of_Dependents_0  No_of_Dependents_1  \\\n",
       "197                 0            1                   1                   0   \n",
       "175                 0            1                   1                   0   \n",
       "526                 0            1                   1                   0   \n",
       "149                 0            1                   1                   0   \n",
       "507                 0            0                   1                   0   \n",
       "\n",
       "     No_of_Dependents_2  No_of_Dependents_3+  Area_of_Property_Rural  \\\n",
       "197                   0                    0                       0   \n",
       "175                   0                    0                       1   \n",
       "526                   0                    0                       0   \n",
       "149                   0                    0                       0   \n",
       "507                   0                    0                       0   \n",
       "\n",
       "     Area_of_Property_Semiurban  Area_of_Property_Urban  \n",
       "197                           0                       1  \n",
       "175                           0                       0  \n",
       "526                           1                       0  \n",
       "149                           1                       0  \n",
       "507                           0                       1  "
      ]
     },
     "execution_count": 20,
     "metadata": {},
     "output_type": "execute_result"
    }
   ],
   "source": [
    "train_tr = pd.concat([train_num_tr, train_cat_tr], axis=1)\n",
    "train_tr.head(5)"
   ]
  },
  {
   "cell_type": "markdown",
   "metadata": {},
   "source": [
    "### Splitting predictors & target variables on train set"
   ]
  },
  {
   "cell_type": "code",
   "execution_count": 21,
   "metadata": {},
   "outputs": [],
   "source": [
    "train_x = train_tr.drop(\"Loan_Status\", axis = 1)\n",
    "train_y = train_tr[\"Loan_Status\"]"
   ]
  },
  {
   "cell_type": "markdown",
   "metadata": {},
   "source": [
    "### Label encoding + 1-Hot encoding + missing value imputation + min max scaling for test set\n",
    "### Splitting predictors & target variables on test set"
   ]
  },
  {
   "cell_type": "code",
   "execution_count": 22,
   "metadata": {},
   "outputs": [],
   "source": [
    "test_num_col  = list(strat_test_set.select_dtypes([\"int64\",\"float\"]).columns)\n",
    "test_cat_col = list(strat_test_set.select_dtypes(\"object\").columns)\n",
    "\n",
    "test_num = strat_test_set[test_num_col]\n",
    "test_cat = strat_test_set[test_cat_col]\n",
    "\n",
    "imputer = SimpleImputer(strategy=\"median\")\n",
    "imputer.fit(test_num)\n",
    "\n",
    "test_num_imp = pd.DataFrame(imputer.transform(test_num), columns = test_num.columns, index = test_num.index)\n",
    "test_num_imp.head(10)\n",
    "\n",
    "scaler = MinMaxScaler()\n",
    "scaler.fit(test_num_imp)\n",
    "test_num_tr = scaler.transform(test_num_imp)\n",
    "test_num_tr = pd.DataFrame(scaler.transform(test_num_imp), columns = test_num.columns, index = test_num.index)\n",
    "\n",
    "# imputing missing values with \"mode\" values\n",
    "test_cat = test_cat.apply(lambda x: x.fillna(x.value_counts().index[0]))\n",
    "\n",
    "test_cat_tr = binarize_1hot(test_cat, to_binarize, to_one_hot)\n",
    "\n",
    "test_tr = pd.concat([test_num_tr, test_cat_tr], axis=1)\n",
    "\n",
    "test_x = test_tr.drop(\"Loan_Status\", axis = 1)\n",
    "test_y = test_tr[\"Loan_Status\"]"
   ]
  },
  {
   "cell_type": "markdown",
   "metadata": {},
   "source": [
    "### Building Models"
   ]
  },
  {
   "cell_type": "code",
   "execution_count": 23,
   "metadata": {},
   "outputs": [
    {
     "name": "stdout",
     "output_type": "stream",
     "text": [
      "[('LogisticRegression', LogisticRegression()), ('SVC', SVC()), ('LinearSVC', LinearSVC()), ('KNeighbors', KNeighborsClassifier()), ('DecisionTree', DecisionTreeClassifier())]\n"
     ]
    }
   ],
   "source": [
    "# testing multiple models\n",
    "models = []\n",
    "models.append((\"LogisticRegression\",LogisticRegression()))\n",
    "models.append((\"SVC\",SVC()))\n",
    "models.append((\"LinearSVC\",LinearSVC()))\n",
    "models.append((\"KNeighbors\",KNeighborsClassifier()))\n",
    "models.append((\"DecisionTree\",DecisionTreeClassifier()))\n",
    "print(models)"
   ]
  },
  {
   "cell_type": "code",
   "execution_count": 24,
   "metadata": {
    "scrolled": false
   },
   "outputs": [
    {
     "name": "stdout",
     "output_type": "stream",
     "text": [
      "Classification report for : LogisticRegression\n",
      "              precision    recall  f1-score   support\n",
      "\n",
      "           0       0.94      0.55      0.70        58\n",
      "           1       0.83      0.98      0.90       127\n",
      "\n",
      "    accuracy                           0.85       185\n",
      "   macro avg       0.88      0.77      0.80       185\n",
      "weighted avg       0.86      0.85      0.84       185\n",
      " \n",
      "\n",
      "Classification report for : SVC\n",
      "              precision    recall  f1-score   support\n",
      "\n",
      "           0       0.94      0.55      0.70        58\n",
      "           1       0.83      0.98      0.90       127\n",
      "\n",
      "    accuracy                           0.85       185\n",
      "   macro avg       0.88      0.77      0.80       185\n",
      "weighted avg       0.86      0.85      0.84       185\n",
      " \n",
      "\n",
      "Classification report for : LinearSVC\n",
      "              precision    recall  f1-score   support\n",
      "\n",
      "           0       0.94      0.57      0.71        58\n",
      "           1       0.83      0.98      0.90       127\n",
      "\n",
      "    accuracy                           0.85       185\n",
      "   macro avg       0.89      0.78      0.81       185\n",
      "weighted avg       0.87      0.85      0.84       185\n",
      " \n",
      "\n",
      "Classification report for : KNeighbors\n",
      "              precision    recall  f1-score   support\n",
      "\n",
      "           0       0.64      0.31      0.42        58\n",
      "           1       0.75      0.92      0.82       127\n",
      "\n",
      "    accuracy                           0.73       185\n",
      "   macro avg       0.69      0.62      0.62       185\n",
      "weighted avg       0.71      0.73      0.70       185\n",
      " \n",
      "\n",
      "Classification report for : DecisionTree\n",
      "              precision    recall  f1-score   support\n",
      "\n",
      "           0       0.56      0.69      0.62        58\n",
      "           1       0.84      0.75      0.79       127\n",
      "\n",
      "    accuracy                           0.73       185\n",
      "   macro avg       0.70      0.72      0.70       185\n",
      "weighted avg       0.75      0.73      0.74       185\n",
      " \n",
      "\n"
     ]
    },
    {
     "data": {
      "image/png": "[encoded data removed]",
      "text/plain": [
       "<Figure size 1440x360 with 5 Axes>"
      ]
     },
     "metadata": {
      "needs_background": "light"
     },
     "output_type": "display_data"
    }
   ],
   "source": [
    "# check best performing model on test data!\n",
    "fig, axes = plt.subplots(1, 5, figsize = (20,5))\n",
    "i=0\n",
    "for name, model in models:\n",
    "    ml_model = model.fit(train_x,train_y)\n",
    "    yhat = ml_model.predict(test_x)\n",
    "    print(\"Classification report for :\", name)\n",
    "    print(classification_report(test_y, yhat), \"\\n\")\n",
    "    plot_roc_curve(ml_model, test_x, test_y, ax = axes[i])\n",
    "    i+=1"
   ]
  },
  {
   "cell_type": "markdown",
   "metadata": {},
   "source": [
    "We see that Logistic Regression model performs similar to SVC. Although, Linear SVC performs slightly better on the test data with an average F1-score of 0.805 for both classes."
   ]
  },
  {
   "cell_type": "markdown",
   "metadata": {},
   "source": [
    "### Checking performance after oversampling training data"
   ]
  },
  {
   "cell_type": "code",
   "execution_count": 25,
   "metadata": {},
   "outputs": [
    {
     "name": "stdout",
     "output_type": "stream",
     "text": [
      "(429, 16)\n"
     ]
    },
    {
     "data": {
      "text/plain": [
       "1    295\n",
       "0    134\n",
       "Name: Loan_Status, dtype: int64"
      ]
     },
     "execution_count": 25,
     "metadata": {},
     "output_type": "execute_result"
    }
   ],
   "source": [
    "print(train_x.shape)\n",
    "train_y.value_counts()"
   ]
  },
  {
   "cell_type": "markdown",
   "metadata": {},
   "source": [
    "#### Using SMOTE to oversample training data and artificially balance the traget variable classes"
   ]
  },
  {
   "cell_type": "code",
   "execution_count": 26,
   "metadata": {},
   "outputs": [],
   "source": [
    "sm = SMOTE(random_state=42)\n",
    "train_x, train_y = sm.fit_sample(train_x, train_y)"
   ]
  },
  {
   "cell_type": "code",
   "execution_count": 27,
   "metadata": {},
   "outputs": [
    {
     "name": "stdout",
     "output_type": "stream",
     "text": [
      "(590, 16)\n"
     ]
    },
    {
     "data": {
      "text/plain": [
       "1    295\n",
       "0    295\n",
       "Name: Loan_Status, dtype: int64"
      ]
     },
     "execution_count": 27,
     "metadata": {},
     "output_type": "execute_result"
    }
   ],
   "source": [
    "print(train_x.shape)\n",
    "train_y.value_counts()"
   ]
  },
  {
   "cell_type": "code",
   "execution_count": 28,
   "metadata": {
    "scrolled": false
   },
   "outputs": [
    {
     "name": "stdout",
     "output_type": "stream",
     "text": [
      "Classification report for : LogisticRegression\n",
      "              precision    recall  f1-score   support\n",
      "\n",
      "           0       0.66      0.72      0.69        58\n",
      "           1       0.87      0.83      0.85       127\n",
      "\n",
      "    accuracy                           0.79       185\n",
      "   macro avg       0.76      0.78      0.77       185\n",
      "weighted avg       0.80      0.79      0.80       185\n",
      " \n",
      "\n",
      "Classification report for : SVC\n",
      "              precision    recall  f1-score   support\n",
      "\n",
      "           0       0.70      0.67      0.68        58\n",
      "           1       0.85      0.87      0.86       127\n",
      "\n",
      "    accuracy                           0.81       185\n",
      "   macro avg       0.77      0.77      0.77       185\n",
      "weighted avg       0.80      0.81      0.80       185\n",
      " \n",
      "\n",
      "Classification report for : LinearSVC\n",
      "              precision    recall  f1-score   support\n",
      "\n",
      "           0       0.72      0.72      0.72        58\n",
      "           1       0.87      0.87      0.87       127\n",
      "\n",
      "    accuracy                           0.83       185\n",
      "   macro avg       0.80      0.80      0.80       185\n",
      "weighted avg       0.83      0.83      0.83       185\n",
      " \n",
      "\n",
      "Classification report for : KNeighbors\n",
      "              precision    recall  f1-score   support\n",
      "\n",
      "           0       0.52      0.66      0.58        58\n",
      "           1       0.82      0.72      0.77       127\n",
      "\n",
      "    accuracy                           0.70       185\n",
      "   macro avg       0.67      0.69      0.68       185\n",
      "weighted avg       0.73      0.70      0.71       185\n",
      " \n",
      "\n",
      "Classification report for : DecisionTree\n",
      "              precision    recall  f1-score   support\n",
      "\n",
      "           0       0.46      0.71      0.55        58\n",
      "           1       0.82      0.61      0.70       127\n",
      "\n",
      "    accuracy                           0.64       185\n",
      "   macro avg       0.64      0.66      0.63       185\n",
      "weighted avg       0.71      0.64      0.66       185\n",
      " \n",
      "\n"
     ]
    },
    {
     "data": {
      "image/png": "[encoded data removed]",
      "text/plain": [
       "<Figure size 1440x360 with 5 Axes>"
      ]
     },
     "metadata": {
      "needs_background": "light"
     },
     "output_type": "display_data"
    }
   ],
   "source": [
    "# check best performing model on test data!\n",
    "fig, axes = plt.subplots(1, 5, figsize = (20,5))\n",
    "i=0\n",
    "for name, model in models:\n",
    "    ml_model = model.fit(train_x,train_y)\n",
    "    yhat = ml_model.predict(test_x)\n",
    "    print(\"Classification report for :\", name)\n",
    "    print(classification_report(test_y, yhat), \"\\n\")\n",
    "    plot_roc_curve(ml_model, test_x, test_y, ax = axes[i])\n",
    "    i+=1"
   ]
  },
  {
   "cell_type": "markdown",
   "metadata": {},
   "source": [
    "Here we see that Linear SVC performs slightly better than others with an average F1-score of 0.795 for both classes."
   ]
  },
  {
   "cell_type": "markdown",
   "metadata": {},
   "source": [
    "#### F1-score vs Precision vs Recall\n",
    "F1-score was chosen assuming that incorrect classifications of either class would have equal or similar (but opposite) implications."
   ]
  },
  {
   "cell_type": "markdown",
   "metadata": {},
   "source": [
    "### Conclusion"
   ]
  },
  {
   "cell_type": "markdown",
   "metadata": {},
   "source": [
    "Based on the results above, we see that oversampling the training set increases F1-score only in case of KNN based model while the F1-score drops in all other cases.\n",
    "#### The best performing model in both cases was the LinearSVC which acheived average F1-score of 0.805 without oversampling of the training data."
   ]
  }
 ],
 "metadata": {
  "kernelspec": {
   "display_name": "Python 3.7.4 64-bit",
   "language": "python",
   "name": "python37464bit307b39dcff424aaea1adc9bea3b3c115"
  },
  "language_info": {
   "codemirror_mode": {
    "name": "ipython",
    "version": 3
   },
   "file_extension": ".py",
   "mimetype": "text/x-python",
   "name": "python",
   "nbconvert_exporter": "python",
   "pygments_lexer": "ipython3",
   "version": "3.7.4"
  }
 },
 "nbformat": 4,
 "nbformat_minor": 4
}
